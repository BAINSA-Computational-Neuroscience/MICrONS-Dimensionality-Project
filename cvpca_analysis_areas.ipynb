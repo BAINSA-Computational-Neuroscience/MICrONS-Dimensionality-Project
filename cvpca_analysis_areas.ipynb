{
 "cells": [
  {
   "cell_type": "markdown",
   "id": "1701da67-1da3-4b1e-a483-90919670f98b",
   "metadata": {},
   "source": [
    "# cvPCA Analysis - Areas"
   ]
  },
  {
   "cell_type": "markdown",
   "id": "c4c5b883",
   "metadata": {},
   "source": [
    "## Import modules"
   ]
  },
  {
   "cell_type": "code",
   "execution_count": 2,
   "id": "b9a72b46-37a2-494b-85df-d693563bd4a7",
   "metadata": {
    "tags": []
   },
   "outputs": [],
   "source": [
    "from itertools import permutations\n",
    "import numpy as np\n",
    "import pandas as pd \n",
    "import matplotlib.pyplot as plt\n",
    "from sklearn.preprocessing import StandardScaler"
   ]
  },
  {
   "cell_type": "markdown",
   "id": "23120100",
   "metadata": {},
   "source": [
    "## cvPCA Helper Functions"
   ]
  },
  {
   "cell_type": "markdown",
   "id": "9da900c1",
   "metadata": {},
   "source": [
    "These functions will allow us to run a complete PCA analysis"
   ]
  },
  {
   "cell_type": "code",
   "execution_count": 3,
   "id": "64bfc4d9",
   "metadata": {
    "tags": []
   },
   "outputs": [],
   "source": [
    "def get_sample_cov_matrix(X):\n",
    "    mean_vec = np.mean(X, axis=0)\n",
    "\n",
    "    X_standard = (X - mean_vec)/np.std(X,axis = 0)\n",
    "\n",
    "    cov_matrix = X_standard.T.dot(X_standard)/(X_standard.shape[0]-1)\n",
    "\n",
    "    return cov_matrix"
   ]
  },
  {
   "cell_type": "code",
   "execution_count": 4,
   "id": "fcb0609d",
   "metadata": {
    "tags": []
   },
   "outputs": [],
   "source": [
    "#This function sorts the eigenvalues into descending order so that it is possible to see the amount of variance explained by each principle component\n",
    "def sort_evals_descending(evals, evectors):\n",
    "    index = np.flip(np.argsort(evals))\n",
    "    evals = evals[index]\n",
    "    evectors = evectors[:, index]\n",
    "    if evals.shape[0] == 2:\n",
    "        if np.arccos(np.matmul(evectors[:, 0], 1 / np.sqrt(2) * np.array([1, 1]))) > np.pi / 2:\n",
    "            evectors[:, 0] = -evectors[:, 0]\n",
    "        if np.arccos(np.matmul(evectors[:, 1], 1 / np.sqrt(2) * np.array([-1, 1]))) > np.pi / 2:\n",
    "            evectors[:, 1] = -evectors[:, 1]\n",
    "    return evals, evectors"
   ]
  },
  {
   "cell_type": "code",
   "execution_count": 5,
   "id": "e72d0af9",
   "metadata": {
    "tags": []
   },
   "outputs": [],
   "source": [
    "def pca(X):\n",
    "    \n",
    "    X = X[::2]\n",
    "  # Calculate the sample covariance matrix\n",
    "\n",
    "    cov_matrix = get_sample_cov_matrix(X)\n",
    "\n",
    "  # Calculate the eigenvalues and eigenvectors\n",
    "    evals, evectors = np.linalg.eigh(cov_matrix)\n",
    "\n",
    "  # Sort the eigenvalues in descending order\n",
    "    evals, evectors = sort_evals_descending(evals, evectors)\n",
    "\n",
    "    return evectors, evals\n"
   ]
  },
  {
   "cell_type": "code",
   "execution_count": 6,
   "id": "bf16cbb2",
   "metadata": {
    "tags": []
   },
   "outputs": [],
   "source": [
    "def cvpca(X1,X2,X3,X4,X5,X6,X7,X8,X9,X10,start = 0,end = 90):\n",
    "    trial_perms = list(permutations(['X1','X2','X3','X4','X5','X6','X7','X8','X9','X10'], 2))\n",
    "    matrix_dict = {'X1':X1,'X2':X2,'X3':X3,'X4':X4,'X5':X5,'X6':X6,'X7':X7,'X8':X8,'X9':X9,'X10':X10}\n",
    "    evalues_list = []\n",
    "    for i in range(start,end):\n",
    "        X_train = matrix_dict[trial_perms[i][0]]\n",
    "        X_test = matrix_dict[trial_perms[i][1]]\n",
    "\n",
    "        mean_vec_train = np.mean(X_train, axis=0)\n",
    "        X_train_standard = (X_train - mean_vec_train)/np.std(X_train,axis = 0)\n",
    "\n",
    "        X_test_standard = (X_test - mean_vec_train)/np.std(X_train,axis = 0)\n",
    "\n",
    "        evalues_train, evectors_train = np.linalg.eigh(X_train_standard.T.dot(X_train_standard)/(X_train_standard.shape[0]-1))\n",
    "        evalues_train, evectors_train = sort_evals_descending(evalues_train, evectors_train)\n",
    "\n",
    "        evalues_cvpca = np.diag(np.dot(np.dot(evectors_train.T, np.dot(X_test_standard.T, X_train_standard)), evectors_train)/(X_train_standard.shape[0]-1))\n",
    "        evalues_list.append(evalues_cvpca)\n",
    "\n",
    "        \n",
    "    return evalues_list"
   ]
  },
  {
   "cell_type": "code",
   "execution_count": 7,
   "id": "35da4f49",
   "metadata": {
    "tags": []
   },
   "outputs": [],
   "source": [
    "#This function plots the eigenspectrum (descending order of eigenvalues) of the layer resulting in a downward sloping graph\n",
    "#Represented with a log-log scale\n",
    "def plot_eigenspectrum(evals):\n",
    "    plt.figure()\n",
    "    plt.plot(np.arange(1, len(evals) + 1), evals,\n",
    "             '--k')\n",
    "    plt.xlabel('PC Components')\n",
    "    plt.ylabel('Variance')\n",
    "    plt.xscale('log')\n",
    "    plt.yscale('log')\n",
    "    plt.show()"
   ]
  },
  {
   "cell_type": "code",
   "execution_count": 8,
   "id": "8e910a12",
   "metadata": {
    "tags": []
   },
   "outputs": [],
   "source": [
    "#Normalized\n",
    "def plot_eigenspectrum_combined(evals_v1,evals_lm,evals_al,evals_rl):\n",
    "    plt.figure()\n",
    "    x=np.linspace(1,400,400)\n",
    "    y=f(x)\n",
    "    plt.plot(x, y,color = 'black', label = '1/n Decay')\n",
    "    plt.plot(np.arange(1, len(evals_v1) + 1), evals_v1/np.sum(evals_v1), label = 'Area V1')\n",
    "    plt.plot(np.arange(1, len(evals_lm) + 1), evals_lm/np.sum(evals_lm), label = 'Area LM')\n",
    "    plt.plot(np.arange(1, len(evals_al) + 1), evals_al/np.sum(evals_al), label = 'Area AL')\n",
    "    plt.plot(np.arange(1, len(evals_rl) + 1), evals_rl/np.sum(evals_rl), label = 'Area RL')\n",
    "    plt.xlabel('PC Components')\n",
    "    plt.ylabel('Variance')\n",
    "    plt.xscale('log')\n",
    "    plt.yscale('log')\n",
    "    plt.legend()\n",
    "    plt.show()"
   ]
  },
  {
   "cell_type": "code",
   "execution_count": 9,
   "id": "2a388d56",
   "metadata": {
    "tags": []
   },
   "outputs": [],
   "source": [
    "#Reference decay rate for graphs\n",
    "def f(x):\n",
    "    return 1/x"
   ]
  },
  {
   "cell_type": "markdown",
   "id": "03bc0b4e",
   "metadata": {},
   "source": [
    "## Area V1 Analysis"
   ]
  },
  {
   "cell_type": "markdown",
   "id": "4f728b89",
   "metadata": {},
   "source": [
    "### Define data frames for each trial in Area V1"
   ]
  },
  {
   "cell_type": "code",
   "execution_count": 10,
   "id": "4220bc8a-baba-4e97-823b-a764889c050f",
   "metadata": {
    "tags": []
   },
   "outputs": [],
   "source": [
    "V1_Trial1_Oracle = pd.read_csv(\"C:/Users/riley/data/Areas/V1_Trial1_Oracle.csv\", header= None)\n",
    "V1_Trial1_Oracle = V1_Trial1_Oracle.to_numpy()\n",
    "V1_Trial1_Oracle = np.transpose(V1_Trial1_Oracle)"
   ]
  },
  {
   "cell_type": "code",
   "execution_count": 11,
   "id": "e81ebcd4-2077-480d-9e2a-929859778ad2",
   "metadata": {
    "tags": []
   },
   "outputs": [],
   "source": [
    "V1_Trial2_Oracle = pd.read_csv(\"C:/Users/riley/data/Areas/V1_Trial2_Oracle.csv\", header= None)\n",
    "V1_Trial2_Oracle = V1_Trial2_Oracle.to_numpy()\n",
    "V1_Trial2_Oracle = np.transpose(V1_Trial2_Oracle)"
   ]
  },
  {
   "cell_type": "code",
   "execution_count": 12,
   "id": "f227b376-44e2-4e9a-b90d-57833fef21f4",
   "metadata": {
    "tags": []
   },
   "outputs": [],
   "source": [
    "V1_Trial3_Oracle = pd.read_csv(\"C:/Users/riley/data/Areas/V1_Trial3_Oracle.csv\", header= None)\n",
    "V1_Trial3_Oracle = V1_Trial3_Oracle.to_numpy()\n",
    "V1_Trial3_Oracle = np.transpose(V1_Trial3_Oracle)"
   ]
  },
  {
   "cell_type": "code",
   "execution_count": 13,
   "id": "9ece9451-53fd-405e-a54b-b4f279291fbe",
   "metadata": {
    "tags": []
   },
   "outputs": [],
   "source": [
    "V1_Trial4_Oracle = pd.read_csv(\"C:/Users/riley/data/Areas/V1_Trial4_Oracle.csv\", header= None)\n",
    "V1_Trial4_Oracle = V1_Trial4_Oracle.to_numpy()\n",
    "V1_Trial4_Oracle = np.transpose(V1_Trial4_Oracle)"
   ]
  },
  {
   "cell_type": "code",
   "execution_count": 14,
   "id": "4adaf46f-91fb-4b5a-8310-61dcf5817735",
   "metadata": {
    "tags": []
   },
   "outputs": [],
   "source": [
    "V1_Trial5_Oracle = pd.read_csv(\"C:/Users/riley/data/Areas/V1_Trial5_Oracle.csv\", header= None)\n",
    "V1_Trial5_Oracle = V1_Trial5_Oracle.to_numpy()\n",
    "V1_Trial5_Oracle = np.transpose(V1_Trial5_Oracle)"
   ]
  },
  {
   "cell_type": "code",
   "execution_count": 15,
   "id": "51fc02c9-3939-4512-ab79-406c585e83c8",
   "metadata": {
    "tags": []
   },
   "outputs": [],
   "source": [
    "V1_Trial6_Oracle = pd.read_csv(\"C:/Users/riley/data/Areas/V1_Trial6_Oracle.csv\", header= None)\n",
    "V1_Trial6_Oracle = V1_Trial6_Oracle.to_numpy()\n",
    "V1_Trial6_Oracle = np.transpose(V1_Trial6_Oracle)"
   ]
  },
  {
   "cell_type": "code",
   "execution_count": 16,
   "id": "dcaca32f-99f7-4617-aab9-546a865cf1c2",
   "metadata": {
    "tags": []
   },
   "outputs": [],
   "source": [
    "V1_Trial7_Oracle = pd.read_csv(\"C:/Users/riley/data/Areas/V1_Trial7_Oracle.csv\", header= None)\n",
    "V1_Trial7_Oracle = V1_Trial7_Oracle.to_numpy()\n",
    "V1_Trial7_Oracle = np.transpose(V1_Trial7_Oracle)"
   ]
  },
  {
   "cell_type": "code",
   "execution_count": 17,
   "id": "1e9fa1b3-7254-4881-97ae-4e2ac6ffb9f2",
   "metadata": {
    "tags": []
   },
   "outputs": [],
   "source": [
    "V1_Trial8_Oracle = pd.read_csv(\"C:/Users/riley/data/Areas/V1_Trial8_Oracle.csv\", header= None)\n",
    "V1_Trial8_Oracle = V1_Trial8_Oracle.to_numpy()\n",
    "V1_Trial8_Oracle = np.transpose(V1_Trial8_Oracle)"
   ]
  },
  {
   "cell_type": "code",
   "execution_count": 18,
   "id": "16050465-8d22-4e18-a4d6-6e131f2eb3c5",
   "metadata": {
    "tags": []
   },
   "outputs": [],
   "source": [
    "V1_Trial9_Oracle = pd.read_csv(\"C:/Users/riley/data/Areas/V1_Trial9_Oracle.csv\", header= None)\n",
    "V1_Trial9_Oracle = V1_Trial9_Oracle.to_numpy()\n",
    "V1_Trial9_Oracle = np.transpose(V1_Trial9_Oracle)"
   ]
  },
  {
   "cell_type": "code",
   "execution_count": 19,
   "id": "fee7909c-9c2b-4712-86fa-3aef3fbf548e",
   "metadata": {
    "tags": []
   },
   "outputs": [],
   "source": [
    "V1_Trial10_Oracle = pd.read_csv(\"C:/Users/riley/data/Areas/V1_Trial10_Oracle.csv\", header= None)\n",
    "V1_Trial10_Oracle = V1_Trial10_Oracle.to_numpy()\n",
    "V1_Trial10_Oracle = np.transpose(V1_Trial10_Oracle)"
   ]
  },
  {
   "cell_type": "code",
   "execution_count": 20,
   "id": "de685ab2-be0e-4d36-b85e-10fb6c7f50b3",
   "metadata": {},
   "outputs": [],
   "source": [
    "V1_AvgResp_Oracle = pd.read_csv(\"C:/Users/riley/data/Areas/V1_AvgResp_Oracle.csv\", header= None)\n",
    "V1_AvgResp_Oracle = V1_AvgResp_Oracle.to_numpy()\n",
    "V1_AvgResp_Oracle = np.transpose(V1_AvgResp_Oracle)"
   ]
  },
  {
   "cell_type": "markdown",
   "id": "59da388e",
   "metadata": {},
   "source": [
    "### Run cvPCA function on train/test combinations and average into final eigenspectrum"
   ]
  },
  {
   "cell_type": "code",
   "execution_count": null,
   "id": "2c449e81",
   "metadata": {
    "tags": []
   },
   "outputs": [],
   "source": [
    "cvPCA_areav1_espectra1 = cvpca(V1_Trial1_Oracle,V1_Trial2_Oracle,V1_Trial3_Oracle,V1_Trial4_Oracle,V1_Trial5_Oracle,V1_Trial6_Oracle,V1_Trial7_Oracle,V1_Trial8_Oracle,V1_Trial9_Oracle,V1_Trial10_Oracle,0,30)\n",
    "cvPCA_areav1_espectra1 = np.array(cvPCA_areav1_espectra1)\n",
    "cvPCA_areav1_espectrum1 = cvPCA_areav1_espectra1.mean(axis=0)"
   ]
  },
  {
   "cell_type": "code",
   "execution_count": null,
   "id": "0e66ffa5",
   "metadata": {
    "tags": []
   },
   "outputs": [],
   "source": [
    "cvPCA_areav1_espectra2 = cvpca(V1_Trial1_Oracle,V1_Trial2_Oracle,V1_Trial3_Oracle,V1_Trial4_Oracle,V1_Trial5_Oracle,V1_Trial6_Oracle,V1_Trial7_Oracle,V1_Trial8_Oracle,V1_Trial9_Oracle,V1_Trial10_Oracle,30,60)\n",
    "cvPCA_areav1_espectra2 = np.array(cvPCA_areav1_espectra2)\n",
    "cvPCA_areav1_espectrum2 = cvPCA_areav1_espectra2.mean(axis=0)"
   ]
  },
  {
   "cell_type": "code",
   "execution_count": null,
   "id": "9ef4dab9",
   "metadata": {
    "tags": []
   },
   "outputs": [],
   "source": [
    "cvPCA_areav1_espectra3 = cvpca(V1_Trial1_Oracle,V1_Trial2_Oracle,V1_Trial3_Oracle,V1_Trial4_Oracle,V1_Trial5_Oracle,V1_Trial6_Oracle,V1_Trial7_Oracle,V1_Trial8_Oracle,V1_Trial9_Oracle,V1_Trial10_Oracle,60,90)\n",
    "cvPCA_areav1_espectra3 = np.array(cvPCA_areav1_espectra3)\n",
    "cvPCA_areav1_espectrum3 = cvPCA_areav1_espectra3.mean(axis=0)"
   ]
  },
  {
   "cell_type": "code",
   "execution_count": null,
   "id": "dce16ff4",
   "metadata": {
    "tags": []
   },
   "outputs": [],
   "source": [
    "cvPCA_areav1_espectrum = (cvPCA_areav1_espectrum1+cvPCA_areav1_espectrum2+cvPCA_areav1_espectrum3)/3"
   ]
  },
  {
   "cell_type": "code",
   "execution_count": null,
   "id": "4546b04c-fd35-4c67-8b9b-53f567e87b64",
   "metadata": {
    "tags": []
   },
   "outputs": [],
   "source": [
    "np.savetxt('cvPCA_areav1_espectrum.csv', cvPCA_areav1_espectrum, delimiter = ',')"
   ]
  },
  {
   "cell_type": "markdown",
   "id": "f4fd3e29",
   "metadata": {},
   "source": [
    "### Run standard PCA to compare results"
   ]
  },
  {
   "cell_type": "code",
   "execution_count": null,
   "id": "d88b5cc0",
   "metadata": {
    "tags": []
   },
   "outputs": [],
   "source": [
    "areav1_evectors, areav1_espectrum = pca(V1_AvgResp_Oracle)"
   ]
  },
  {
   "cell_type": "code",
   "execution_count": null,
   "id": "4001c8e8-08d0-470c-bae0-e122094b814a",
   "metadata": {
    "tags": []
   },
   "outputs": [],
   "source": [
    "np.savetxt('areav1_espectrum.csv', areav1_espectrum, delimiter = ',')"
   ]
  },
  {
   "cell_type": "code",
   "execution_count": null,
   "id": "7a50f260",
   "metadata": {
    "tags": []
   },
   "outputs": [],
   "source": [
    "x=np.linspace(1,400,400)\n",
    "y=f(x)\n",
    "plt.figure()\n",
    "plt.plot(x, y,color = 'black', label = '1/n Decay')\n",
    "plt.plot(np.arange(1, len(cvPCA_areav1_espectrum) + 1),cvPCA_areav1_espectrum/np.sum(cvPCA_areav1_espectrum), label = 'cvPCA Oracle')\n",
    "plt.plot(np.arange(1, len(areav1_espectrum) + 1),areav1_espectrum/np.sum(areav1_espectrum), label = 'Standard PCA')\n",
    "plt.xlabel('PC Components')\n",
    "plt.ylabel('Variance')\n",
    "plt.xscale('log')\n",
    "plt.xlim(1,500)\n",
    "plt.ylim(10e-5,1)\n",
    "plt.yscale('log')\n",
    "plt.legend()\n",
    "plt.show()"
   ]
  },
  {
   "cell_type": "markdown",
   "id": "6be042a3",
   "metadata": {},
   "source": [
    "## Area AL Analysis"
   ]
  },
  {
   "cell_type": "markdown",
   "id": "60881799",
   "metadata": {},
   "source": [
    "### Define data frames for each trial in area AL"
   ]
  },
  {
   "cell_type": "code",
   "execution_count": null,
   "id": "55eb8750-cdcf-4f75-8952-0f081c226d51",
   "metadata": {
    "tags": []
   },
   "outputs": [],
   "source": [
    "AL_Trial1_Oracle = pd.read_csv(\"C:/Users/riley/data/Areas/AL_Trial1_Oracle.csv\", header= None)\n",
    "AL_Trial1_Oracle = AL_Trial1_Oracle.to_numpy()\n",
    "AL_Trial1_Oracle = np.transpose(AL_Trial1_Oracle)"
   ]
  },
  {
   "cell_type": "code",
   "execution_count": null,
   "id": "6498443e-329d-4ba0-ba81-78cbbc83dcda",
   "metadata": {
    "tags": []
   },
   "outputs": [],
   "source": [
    "AL_Trial2_Oracle = pd.read_csv(\"C:/Users/riley/data/Areas/AL_Trial2_Oracle.csv\", header= None)\n",
    "AL_Trial2_Oracle = AL_Trial2_Oracle.to_numpy()\n",
    "AL_Trial2_Oracle = np.transpose(AL_Trial2_Oracle)"
   ]
  },
  {
   "cell_type": "code",
   "execution_count": null,
   "id": "5867135a-3173-4b24-9a8b-198c3fd9578d",
   "metadata": {
    "tags": []
   },
   "outputs": [],
   "source": [
    "AL_Trial3_Oracle = pd.read_csv(\"C:/Users/riley/data/Areas/AL_Trial3_Oracle.csv\", header= None)\n",
    "AL_Trial3_Oracle = AL_Trial3_Oracle.to_numpy()\n",
    "AL_Trial3_Oracle = np.transpose(AL_Trial3_Oracle)"
   ]
  },
  {
   "cell_type": "code",
   "execution_count": null,
   "id": "50cf70b5-eef2-4056-bed9-f903fc34b782",
   "metadata": {
    "tags": []
   },
   "outputs": [],
   "source": [
    "AL_Trial4_Oracle = pd.read_csv(\"C:/Users/riley/data/Areas/AL_Trial4_Oracle.csv\", header= None)\n",
    "AL_Trial4_Oracle = AL_Trial4_Oracle.to_numpy()\n",
    "AL_Trial4_Oracle = np.transpose(AL_Trial4_Oracle)"
   ]
  },
  {
   "cell_type": "code",
   "execution_count": null,
   "id": "0b5dcf0c-6741-4eec-9134-0111afd129b2",
   "metadata": {
    "tags": []
   },
   "outputs": [],
   "source": [
    "AL_Trial5_Oracle = pd.read_csv(\"C:/Users/riley/data/Areas/AL_Trial5_Oracle.csv\", header= None)\n",
    "AL_Trial5_Oracle = AL_Trial5_Oracle.to_numpy()\n",
    "AL_Trial5_Oracle = np.transpose(AL_Trial5_Oracle)"
   ]
  },
  {
   "cell_type": "code",
   "execution_count": null,
   "id": "8e750e0c-bfc7-4d32-a101-325a739ddfbd",
   "metadata": {
    "tags": []
   },
   "outputs": [],
   "source": [
    "AL_Trial6_Oracle = pd.read_csv(\"C:/Users/riley/data/Areas/AL_Trial6_Oracle.csv\", header= None)\n",
    "AL_Trial6_Oracle = AL_Trial6_Oracle.to_numpy()\n",
    "AL_Trial6_Oracle = np.transpose(AL_Trial6_Oracle)"
   ]
  },
  {
   "cell_type": "code",
   "execution_count": null,
   "id": "e1d7789d-de49-473d-bfb0-a731ee346110",
   "metadata": {
    "tags": []
   },
   "outputs": [],
   "source": [
    "AL_Trial7_Oracle = pd.read_csv(\"C:/Users/riley/data/Areas/AL_Trial7_Oracle.csv\", header= None)\n",
    "AL_Trial7_Oracle = AL_Trial7_Oracle.to_numpy()\n",
    "AL_Trial7_Oracle = np.transpose(AL_Trial7_Oracle)"
   ]
  },
  {
   "cell_type": "code",
   "execution_count": null,
   "id": "5c955e12-ef94-48cc-9cc9-d79257de758c",
   "metadata": {
    "tags": []
   },
   "outputs": [],
   "source": [
    "AL_Trial8_Oracle = pd.read_csv(\"C:/Users/riley/data/Areas/AL_Trial8_Oracle.csv\", header= None)\n",
    "AL_Trial8_Oracle = AL_Trial8_Oracle.to_numpy()\n",
    "AL_Trial8_Oracle = np.transpose(AL_Trial8_Oracle)"
   ]
  },
  {
   "cell_type": "code",
   "execution_count": null,
   "id": "b33eb919-626c-4040-9898-94447452f7bc",
   "metadata": {
    "tags": []
   },
   "outputs": [],
   "source": [
    "AL_Trial9_Oracle = pd.read_csv(\"C:/Users/riley/data/Areas/AL_Trial9_Oracle.csv\", header= None)\n",
    "AL_Trial9_Oracle = AL_Trial9_Oracle.to_numpy()\n",
    "AL_Trial9_Oracle = np.transpose(AL_Trial9_Oracle)"
   ]
  },
  {
   "cell_type": "code",
   "execution_count": null,
   "id": "2a1c3715-f634-4279-8651-d5ab9a7bbd71",
   "metadata": {
    "tags": []
   },
   "outputs": [],
   "source": [
    "AL_Trial10_Oracle = pd.read_csv(\"C:/Users/riley/data/Areas/AL_Trial10_Oracle.csv\", header= None)\n",
    "AL_Trial10_Oracle = AL_Trial10_Oracle.to_numpy()\n",
    "AL_Trial10_Oracle = np.transpose(AL_Trial10_Oracle)"
   ]
  },
  {
   "cell_type": "code",
   "execution_count": null,
   "id": "abc6949f-25a6-4605-ab01-39e160512d20",
   "metadata": {},
   "outputs": [],
   "source": [
    "AL_AvgResp_Oracle = pd.read_csv(\"C:/Users/riley/data/Areas/AL_AvgResp_Oracle.csv\", header= None)\n",
    "AL_AvgResp_Oracle = AL_AvgResp_Oracle.to_numpy()\n",
    "AL_AvgResp_Oracle = np.transpose(AL_AvgResp_Oracle)"
   ]
  },
  {
   "cell_type": "markdown",
   "id": "c0e348bf",
   "metadata": {},
   "source": [
    "### Run cvPCA function on train/test combinations and average into final eigenspectrum"
   ]
  },
  {
   "cell_type": "code",
   "execution_count": null,
   "id": "00fb33cf",
   "metadata": {
    "tags": []
   },
   "outputs": [],
   "source": [
    "cvPCA_areaal_espectra = cvpca(AL_Trial1_Oracle,AL_Trial2_Oracle,AL_Trial3_Oracle,AL_Trial4_Oracle,AL_Trial5_Oracle,AL_Trial6_Oracle,AL_Trial7_Oracle,AL_Trial8_Oracle,AL_Trial9_Oracle,AL_Trial10_Oracle)\n",
    "cvPCA_areaal_espectra = np.array(cvPCA_areaal_espectra)\n",
    "cvPCA_areaal_espectrum = cvPCA_areaal_espectra.mean(axis=0)"
   ]
  },
  {
   "cell_type": "code",
   "execution_count": null,
   "id": "70b0f070-9bff-426b-ab85-d0db44897c14",
   "metadata": {
    "tags": []
   },
   "outputs": [],
   "source": [
    "np.savetxt('cvPCA_areaal_espectrum.csv', cvPCA_areaal_espectrum, delimiter = ',')"
   ]
  },
  {
   "cell_type": "markdown",
   "id": "458174f3",
   "metadata": {},
   "source": [
    "### Run standard PCA to compare results"
   ]
  },
  {
   "cell_type": "code",
   "execution_count": null,
   "id": "8805b683",
   "metadata": {
    "tags": []
   },
   "outputs": [],
   "source": [
    "areaal_evectors, areaal_espectrum = pca(AL_AvgResp_Oracle)"
   ]
  },
  {
   "cell_type": "code",
   "execution_count": null,
   "id": "0b8dd08c-8467-422e-9b70-019c58baaa69",
   "metadata": {
    "tags": []
   },
   "outputs": [],
   "source": [
    "np.savetxt('areaal_espectrum.csv', areaal_espectrum, delimiter = ',')"
   ]
  },
  {
   "cell_type": "code",
   "execution_count": null,
   "id": "f4b47f94",
   "metadata": {
    "tags": []
   },
   "outputs": [],
   "source": [
    "x=np.linspace(1,400,400)\n",
    "y=f(x)\n",
    "plt.figure()\n",
    "plt.plot(x, y,color = 'black', label = '1/n Decay')\n",
    "plt.plot(np.arange(1, len(cvPCA_areaal_espectrum) + 1),cvPCA_areaal_espectrum/np.sum(cvPCA_areaal_espectrum), label = 'cvPCA Oracle')\n",
    "plt.plot(np.arange(1, len(areaal_espectrum) + 1),areaal_espectrum/np.sum(areaal_espectrum), label = 'Standard PCA')\n",
    "plt.xlabel('PC Components')\n",
    "plt.ylabel('Variance')\n",
    "plt.xscale('log')\n",
    "plt.xlim(1,500)\n",
    "plt.ylim(10e-5,1)\n",
    "plt.yscale('log')\n",
    "plt.legend()\n",
    "plt.show()"
   ]
  },
  {
   "cell_type": "markdown",
   "id": "d296a0a1",
   "metadata": {},
   "source": [
    "## Area RL Analysis"
   ]
  },
  {
   "cell_type": "markdown",
   "id": "56783e9f",
   "metadata": {},
   "source": [
    "### Define data frames for each trial in area RL"
   ]
  },
  {
   "cell_type": "code",
   "execution_count": null,
   "id": "7c5c9592-d42e-4ac1-9ce0-5ceb52d4b6aa",
   "metadata": {
    "tags": []
   },
   "outputs": [],
   "source": [
    "RL_Trial1_Oracle = pd.read_csv(\"C:/Users/riley/data/Areas/RL_Trial1_Oracle.csv\", header= None)\n",
    "RL_Trial1_Oracle = RL_Trial1_Oracle.to_numpy()\n",
    "RL_Trial1_Oracle = np.transpose(RL_Trial1_Oracle)"
   ]
  },
  {
   "cell_type": "code",
   "execution_count": null,
   "id": "4ad57a3a-2b05-46f9-86df-60eddd2978e2",
   "metadata": {
    "tags": []
   },
   "outputs": [],
   "source": [
    "RL_Trial2_Oracle = pd.read_csv(\"C:/Users/riley/data/Areas/RL_Trial2_Oracle.csv\", header= None)\n",
    "RL_Trial2_Oracle = RL_Trial2_Oracle.to_numpy()\n",
    "RL_Trial2_Oracle = np.transpose(RL_Trial2_Oracle)"
   ]
  },
  {
   "cell_type": "code",
   "execution_count": null,
   "id": "8dd09eda-afe0-4dff-8ef8-3faaf56f9eb7",
   "metadata": {
    "tags": []
   },
   "outputs": [],
   "source": [
    "RL_Trial3_Oracle = pd.read_csv(\"C:/Users/riley/data/Areas/RL_Trial3_Oracle.csv\", header= None)\n",
    "RL_Trial3_Oracle = RL_Trial3_Oracle.to_numpy()\n",
    "RL_Trial3_Oracle = np.transpose(RL_Trial3_Oracle)"
   ]
  },
  {
   "cell_type": "code",
   "execution_count": null,
   "id": "7fd06d36-b324-43db-8730-a315bbd3c7b8",
   "metadata": {
    "tags": []
   },
   "outputs": [],
   "source": [
    "RL_Trial4_Oracle = pd.read_csv(\"C:/Users/riley/data/Areas/RL_Trial4_Oracle.csv\", header= None)\n",
    "RL_Trial4_Oracle = RL_Trial4_Oracle.to_numpy()\n",
    "RL_Trial4_Oracle = np.transpose(RL_Trial4_Oracle)"
   ]
  },
  {
   "cell_type": "code",
   "execution_count": null,
   "id": "e94195fa-f971-403e-8de6-24a6b2ec1893",
   "metadata": {
    "tags": []
   },
   "outputs": [],
   "source": [
    "RL_Trial5_Oracle = pd.read_csv(\"C:/Users/riley/data/Areas/RL_Trial5_Oracle.csv\", header= None)\n",
    "RL_Trial5_Oracle = RL_Trial5_Oracle.to_numpy()\n",
    "RL_Trial5_Oracle = np.transpose(RL_Trial5_Oracle)"
   ]
  },
  {
   "cell_type": "code",
   "execution_count": null,
   "id": "a1fd3e50-2024-4cca-a718-ec31c77667b0",
   "metadata": {
    "tags": []
   },
   "outputs": [],
   "source": [
    "RL_Trial6_Oracle = pd.read_csv(\"C:/Users/riley/data/Areas/RL_Trial6_Oracle.csv\", header= None)\n",
    "RL_Trial6_Oracle = RL_Trial6_Oracle.to_numpy()\n",
    "RL_Trial6_Oracle = np.transpose(RL_Trial6_Oracle)"
   ]
  },
  {
   "cell_type": "code",
   "execution_count": null,
   "id": "e5376502-19a9-44ba-9672-850d25a79bb4",
   "metadata": {
    "tags": []
   },
   "outputs": [],
   "source": [
    "RL_Trial7_Oracle = pd.read_csv(\"C:/Users/riley/data/Areas/RL_Trial7_Oracle.csv\", header= None)\n",
    "RL_Trial7_Oracle = RL_Trial7_Oracle.to_numpy()\n",
    "RL_Trial7_Oracle = np.transpose(RL_Trial7_Oracle)"
   ]
  },
  {
   "cell_type": "code",
   "execution_count": null,
   "id": "d29ed954-0309-4286-bc47-b7fd43b8a344",
   "metadata": {
    "tags": []
   },
   "outputs": [],
   "source": [
    "RL_Trial8_Oracle = pd.read_csv(\"C:/Users/riley/data/Areas/RL_Trial8_Oracle.csv\", header= None)\n",
    "RL_Trial8_Oracle = RL_Trial8_Oracle.to_numpy()\n",
    "RL_Trial8_Oracle = np.transpose(RL_Trial8_Oracle)"
   ]
  },
  {
   "cell_type": "code",
   "execution_count": null,
   "id": "35d5a8db-eaf3-4921-bbd1-9d12a0929c05",
   "metadata": {
    "tags": []
   },
   "outputs": [],
   "source": [
    "RL_Trial9_Oracle = pd.read_csv(\"C:/Users/riley/data/Areas/RL_Trial9_Oracle.csv\", header= None)\n",
    "RL_Trial9_Oracle = RL_Trial9_Oracle.to_numpy()\n",
    "RL_Trial9_Oracle = np.transpose(RL_Trial9_Oracle)"
   ]
  },
  {
   "cell_type": "code",
   "execution_count": null,
   "id": "9552a435-af6d-4b89-b168-e7e82ccdb425",
   "metadata": {
    "tags": []
   },
   "outputs": [],
   "source": [
    "RL_Trial10_Oracle = pd.read_csv(\"C:/Users/riley/data/Areas/RL_Trial10_Oracle.csv\", header= None)\n",
    "RL_Trial10_Oracle = RL_Trial10_Oracle.to_numpy()\n",
    "RL_Trial10_Oracle = np.transpose(RL_Trial10_Oracle)"
   ]
  },
  {
   "cell_type": "code",
   "execution_count": null,
   "id": "d56f9439-3ebd-4a81-9f86-e16f3d7c924d",
   "metadata": {},
   "outputs": [],
   "source": [
    "RL_AvgResp_Oracle = pd.read_csv(\"C:/Users/riley/data/Areas/RL_AvgResp_Oracle.csv\", header= None)\n",
    "RL_AvgResp_Oracle = RL_AvgResp_Oracle.to_numpy()\n",
    "RL_AvgResp_Oracle = np.transpose(RL_AvgResp_Oracle)"
   ]
  },
  {
   "cell_type": "markdown",
   "id": "262b7583",
   "metadata": {},
   "source": [
    "### Run cvPCA function on train/test combinations and average into final eigenspectrum"
   ]
  },
  {
   "cell_type": "code",
   "execution_count": null,
   "id": "dce66ae7-c110-4915-a7e6-d6ae8ffdab14",
   "metadata": {
    "tags": []
   },
   "outputs": [],
   "source": [
    "cvPCA_arearl_espectra1 = cvpca(RL_Trial1_Oracle,RL_Trial2_Oracle,RL_Trial3_Oracle,RL_Trial4_Oracle,RL_Trial5_Oracle,RL_Trial6_Oracle,RL_Trial7_Oracle,RL_Trial8_Oracle,RL_Trial9_Oracle,RL_Trial10_Oracle,0,45)\n",
    "cvPCA_arearl_espectra1 = np.array(cvPCA_arearl_espectra1)\n",
    "cvPCA_arearl_espectrum1 = cvPCA_arearl_espectra1.mean(axis=0)"
   ]
  },
  {
   "cell_type": "code",
   "execution_count": null,
   "id": "f452116a-78ff-4ae2-8503-fdd7dc2bac66",
   "metadata": {
    "tags": []
   },
   "outputs": [],
   "source": [
    "cvPCA_arearl_espectra2 = cvpca(RL_Trial1_Oracle,RL_Trial2_Oracle,RL_Trial3_Oracle,RL_Trial4_Oracle,RL_Trial5_Oracle,RL_Trial6_Oracle,RL_Trial7_Oracle,RL_Trial8_Oracle,RL_Trial9_Oracle,RL_Trial10_Oracle,45,90)\n",
    "cvPCA_arearl_espectra2 = np.array(cvPCA_arearl_espectra2)\n",
    "cvPCA_arearl_espectrum2 = cvPCA_arearl_espectra2.mean(axis=0)"
   ]
  },
  {
   "cell_type": "code",
   "execution_count": null,
   "id": "2de1d06b",
   "metadata": {
    "tags": []
   },
   "outputs": [],
   "source": [
    "cvPCA_arearl_espectrum = (cvPCA_arearl_espectrum1+cvPCA_arearl_espectrum2)/2"
   ]
  },
  {
   "cell_type": "code",
   "execution_count": null,
   "id": "7385173e-dad5-4631-9493-176a82dbc8ee",
   "metadata": {
    "tags": []
   },
   "outputs": [],
   "source": [
    "np.savetxt('cvPCA_arearl_espectrum.csv', cvPCA_arearl_espectrum, delimiter = ',')"
   ]
  },
  {
   "cell_type": "markdown",
   "id": "428dfac9",
   "metadata": {},
   "source": [
    "### Run standard PCA to compare results"
   ]
  },
  {
   "cell_type": "code",
   "execution_count": null,
   "id": "b12aa007",
   "metadata": {
    "tags": []
   },
   "outputs": [],
   "source": [
    "arearl_evectors, arearl_espectrum = pca(RL_AvgResp_Oracle)"
   ]
  },
  {
   "cell_type": "code",
   "execution_count": null,
   "id": "70989680-1a9e-4804-9acd-faf4bb9e0e71",
   "metadata": {
    "tags": []
   },
   "outputs": [],
   "source": [
    "np.savetxt('arearl_espectrum.csv', arearl_espectrum, delimiter = ',')"
   ]
  },
  {
   "cell_type": "code",
   "execution_count": null,
   "id": "b7c66f38",
   "metadata": {
    "tags": []
   },
   "outputs": [],
   "source": [
    "x=np.linspace(1,400,400)\n",
    "y=f(x)\n",
    "plt.figure()\n",
    "plt.plot(x, y,color = 'black', label = '1/n Decay')\n",
    "plt.plot(np.arange(1, len(cvPCA_arearl_espectrum) + 1),cvPCA_arearl_espectrum/np.sum(cvPCA_arearl_espectrum), label = 'cvPCA')\n",
    "plt.plot(np.arange(1, len(arearl_espectrum) + 1),arearl_espectrum/np.sum(arearl_espectrum), label = 'PCA')\n",
    "plt.xlabel('PC Components')\n",
    "plt.ylabel('Variance')\n",
    "plt.xscale('log')\n",
    "plt.xlim(1,300)\n",
    "plt.ylim(10e-4,1)\n",
    "plt.yscale('log')\n",
    "plt.legend()\n",
    "plt.show()"
   ]
  },
  {
   "cell_type": "markdown",
   "id": "3fe8bc95",
   "metadata": {},
   "source": [
    "## Area LM Analysis"
   ]
  },
  {
   "cell_type": "markdown",
   "id": "8172e5b8",
   "metadata": {},
   "source": [
    "### Define data frames for each trial in area LM"
   ]
  },
  {
   "cell_type": "code",
   "execution_count": null,
   "id": "8a868b72-1640-4853-9f3f-f2c39ecd202b",
   "metadata": {
    "tags": []
   },
   "outputs": [],
   "source": [
    "LM_Trial1_Oracle = pd.read_csv(\"C:/Users/riley/data/Areas/LM_Trial1_Oracle.csv\", header= None)\n",
    "LM_Trial1_Oracle = LM_Trial1_Oracle.to_numpy()\n",
    "LM_Trial1_Oracle = np.transpose(LM_Trial1_Oracle)"
   ]
  },
  {
   "cell_type": "code",
   "execution_count": null,
   "id": "a48f5a66-6795-4d01-9cb0-84194c49701c",
   "metadata": {
    "tags": []
   },
   "outputs": [],
   "source": [
    "LM_Trial2_Oracle = pd.read_csv(\"C:/Users/riley/data/Areas/LM_Trial2_Oracle.csv\", header= None)\n",
    "LM_Trial2_Oracle = LM_Trial2_Oracle.to_numpy()\n",
    "LM_Trial2_Oracle = np.transpose(LM_Trial2_Oracle)"
   ]
  },
  {
   "cell_type": "code",
   "execution_count": null,
   "id": "e274d0c3-2392-4de4-8388-7b2383bf4924",
   "metadata": {
    "tags": []
   },
   "outputs": [],
   "source": [
    "LM_Trial3_Oracle = pd.read_csv(\"C:/Users/riley/data/Areas/LM_Trial3_Oracle.csv\", header= None)\n",
    "LM_Trial3_Oracle = LM_Trial3_Oracle.to_numpy()\n",
    "LM_Trial3_Oracle = np.transpose(LM_Trial3_Oracle)"
   ]
  },
  {
   "cell_type": "code",
   "execution_count": null,
   "id": "35909068-b4de-4225-9017-59f463c88802",
   "metadata": {
    "tags": []
   },
   "outputs": [],
   "source": [
    "LM_Trial4_Oracle = pd.read_csv(\"C:/Users/riley/data/Areas/LM_Trial4_Oracle.csv\", header= None)\n",
    "LM_Trial4_Oracle = LM_Trial4_Oracle.to_numpy()\n",
    "LM_Trial4_Oracle = np.transpose(LM_Trial4_Oracle)"
   ]
  },
  {
   "cell_type": "code",
   "execution_count": null,
   "id": "71e50857-fd17-49ef-8e5b-f146d80f171b",
   "metadata": {
    "tags": []
   },
   "outputs": [],
   "source": [
    "LM_Trial5_Oracle = pd.read_csv(\"C:/Users/riley/data/Areas/LM_Trial5_Oracle.csv\", header= None)\n",
    "LM_Trial5_Oracle = LM_Trial5_Oracle.to_numpy()\n",
    "LM_Trial5_Oracle = np.transpose(LM_Trial5_Oracle)"
   ]
  },
  {
   "cell_type": "code",
   "execution_count": null,
   "id": "0066a077-d1f3-4922-9119-8ce99a2ff120",
   "metadata": {
    "tags": []
   },
   "outputs": [],
   "source": [
    "LM_Trial6_Oracle = pd.read_csv(\"C:/Users/riley/data/Areas/LM_Trial6_Oracle.csv\", header= None)\n",
    "LM_Trial6_Oracle = LM_Trial6_Oracle.to_numpy()\n",
    "LM_Trial6_Oracle = np.transpose(LM_Trial6_Oracle)"
   ]
  },
  {
   "cell_type": "code",
   "execution_count": null,
   "id": "a3af1909-c1d7-495e-992f-37d6b7c7c16a",
   "metadata": {
    "tags": []
   },
   "outputs": [],
   "source": [
    "LM_Trial7_Oracle = pd.read_csv(\"C:/Users/riley/data/Areas/LM_Trial7_Oracle.csv\", header= None)\n",
    "LM_Trial7_Oracle = LM_Trial7_Oracle.to_numpy()\n",
    "LM_Trial7_Oracle = np.transpose(LM_Trial7_Oracle)"
   ]
  },
  {
   "cell_type": "code",
   "execution_count": null,
   "id": "8ca40806-21ca-4652-9392-91db42e24de7",
   "metadata": {
    "tags": []
   },
   "outputs": [],
   "source": [
    "LM_Trial8_Oracle = pd.read_csv(\"C:/Users/riley/data/Areas/LM_Trial8_Oracle.csv\", header= None)\n",
    "LM_Trial8_Oracle = LM_Trial8_Oracle.to_numpy()\n",
    "LM_Trial8_Oracle = np.transpose(LM_Trial8_Oracle)"
   ]
  },
  {
   "cell_type": "code",
   "execution_count": null,
   "id": "c534e5df-7bb7-4d42-9397-b2f3589aa175",
   "metadata": {
    "tags": []
   },
   "outputs": [],
   "source": [
    "LM_Trial9_Oracle = pd.read_csv(\"C:/Users/riley/data/Areas/LM_Trial9_Oracle.csv\", header= None)\n",
    "LM_Trial9_Oracle = LM_Trial9_Oracle.to_numpy()\n",
    "LM_Trial9_Oracle = np.transpose(LM_Trial9_Oracle)"
   ]
  },
  {
   "cell_type": "code",
   "execution_count": null,
   "id": "add6cd43-dbc8-4d23-8682-f84db92abf91",
   "metadata": {
    "tags": []
   },
   "outputs": [],
   "source": [
    "LM_Trial10_Oracle = pd.read_csv(\"C:/Users/riley/data/Areas/LM_Trial10_Oracle.csv\", header= None)\n",
    "LM_Trial10_Oracle = LM_Trial10_Oracle.to_numpy()\n",
    "LM_Trial10_Oracle = np.transpose(LM_Trial10_Oracle)"
   ]
  },
  {
   "cell_type": "code",
   "execution_count": null,
   "id": "59b82387-dab9-454c-a211-a7001d3d1c9d",
   "metadata": {},
   "outputs": [],
   "source": [
    "LM_AvgResp_Oracle = pd.read_csv(\"C:/Users/riley/data/Areas/LM_AvgResp_Oracle.csv\", header= None)\n",
    "LM_AvgResp_Oracle = LM_AvgResp_Oracle.to_numpy()\n",
    "LM_AvgResp_Oracle = np.transpose(LM_AvgResp_Oracle)"
   ]
  },
  {
   "cell_type": "markdown",
   "id": "2d0ae6d0",
   "metadata": {},
   "source": [
    "### Run cvPCA function on train/test combinations and average into final eigenspectrum"
   ]
  },
  {
   "cell_type": "code",
   "execution_count": null,
   "id": "85851946",
   "metadata": {
    "tags": []
   },
   "outputs": [],
   "source": [
    "cvPCA_arealm_espectra = cvpca(LM_Trial1_Oracle,LM_Trial2_Oracle,LM_Trial3_Oracle,LM_Trial4_Oracle,LM_Trial5_Oracle,LM_Trial6_Oracle,LM_Trial7_Oracle,LM_Trial8_Oracle,LM_Trial9_Oracle,LM_Trial10_Oracle)\n",
    "cvPCA_arealm_espectra = np.array(cvPCA_arealm_espectra)\n",
    "cvPCA_arealm_espectrum = cvPCA_arealm_espectra.mean(axis=0)"
   ]
  },
  {
   "cell_type": "code",
   "execution_count": null,
   "id": "9c099d83-e58a-42f4-8f07-c82c0e2fcaab",
   "metadata": {
    "tags": []
   },
   "outputs": [],
   "source": [
    "np.savetxt('cvPCA_arealm_espectrum.csv', cvPCA_arealm_espectrum, delimiter = ',')"
   ]
  },
  {
   "cell_type": "markdown",
   "id": "e4ecf262",
   "metadata": {},
   "source": [
    "### Run standard PCA to compare results"
   ]
  },
  {
   "cell_type": "code",
   "execution_count": null,
   "id": "5eca6f7c",
   "metadata": {
    "tags": []
   },
   "outputs": [],
   "source": [
    "arealm_evectors, arealm_espectrum = pca(LM_AvgResp_Oracle)"
   ]
  },
  {
   "cell_type": "code",
   "execution_count": null,
   "id": "7f32d7a6-4197-4ee0-a491-a7589bc1306c",
   "metadata": {
    "tags": []
   },
   "outputs": [],
   "source": [
    "np.savetxt('arealm_espectrum.csv', arealm_espectrum, delimiter = ',')"
   ]
  },
  {
   "cell_type": "code",
   "execution_count": null,
   "id": "6e1deada",
   "metadata": {
    "tags": []
   },
   "outputs": [],
   "source": [
    "x=np.linspace(1,400,400)\n",
    "y=f(x)\n",
    "plt.figure()\n",
    "plt.plot(x, y,color = 'black', label = '1/n Decay')\n",
    "plt.plot(np.arange(1, len(cvPCA_arealm_espectrum) + 1),cvPCA_arealm_espectrum/np.sum(cvPCA_arealm_espectrum), label = 'cvPCA')\n",
    "plt.plot(np.arange(1, len(arealm_espectrum) + 1),arealm_espectrum/np.sum(arealm_espectrum), label = 'PCA')\n",
    "plt.xlabel('PC Components')\n",
    "plt.ylabel('Variance')\n",
    "plt.xscale('log')\n",
    "plt.xlim(1,300)\n",
    "plt.ylim(10e-4,1)\n",
    "plt.yscale('log')\n",
    "plt.legend()\n",
    "plt.show()"
   ]
  },
  {
   "cell_type": "markdown",
   "id": "d105963e-fbf5-43d8-b181-1fbbddd65503",
   "metadata": {},
   "source": [
    "## Plot combined eigenspectra to compare differences across layers"
   ]
  },
  {
   "cell_type": "markdown",
   "id": "1c97758f-e729-4493-b97e-595288680031",
   "metadata": {},
   "source": [
    "### cvPCA"
   ]
  },
  {
   "cell_type": "code",
   "execution_count": null,
   "id": "ffcbc09a-f610-4c57-9d80-1a94579d1f97",
   "metadata": {
    "tags": []
   },
   "outputs": [],
   "source": [
    "plot_eigenspectrum_combined_areas(cvPCA_areav1_espectrum,cvPCA_arealm_espectrum,cvPCA_areaal_espectrum,cvPCA_arearl_espectrum)"
   ]
  },
  {
   "cell_type": "markdown",
   "id": "406dc639-4e13-413b-8505-be8e2d5111db",
   "metadata": {},
   "source": [
    "## Standard PCA"
   ]
  },
  {
   "cell_type": "code",
   "execution_count": 106,
   "id": "0e1fb1ac-efce-49cc-af58-df0c75ef3130",
   "metadata": {
    "tags": []
   },
   "outputs": [
    {
     "data": {
      "image/png": "[encoded data removed]",
      "text/plain": [
       "<Figure size 640x480 with 1 Axes>"
      ]
     },
     "metadata": {},
     "output_type": "display_data"
    }
   ],
   "source": [
    "plot_eigenspectrum_combined_areas(areav1_espectrum,arealm_espectrum,areaal_espectrum,arearl_espectrum)"
   ]
  }
 ],
 "metadata": {
  "kernelspec": {
   "display_name": "Python 3 (ipykernel)",
   "language": "python",
   "name": "python3"
  },
  "language_info": {
   "codemirror_mode": {
    "name": "ipython",
    "version": 3
   },
   "file_extension": ".py",
   "mimetype": "text/x-python",
   "name": "python",
   "nbconvert_exporter": "python",
   "pygments_lexer": "ipython3",
   "version": "3.11.4"
  }
 },
 "nbformat": 4,
 "nbformat_minor": 5
}
