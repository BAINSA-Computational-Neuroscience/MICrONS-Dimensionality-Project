{
 "cells": [
  {
   "cell_type": "markdown",
   "id": "36b71a51-a890-4853-9eb9-a6f1de769b3e",
   "metadata": {
    "tags": []
   },
   "source": [
    "# Graphing Inputs/Outputs of Pre and Post-Synaptic Neurons"
   ]
  },
  {
   "cell_type": "markdown",
   "id": "8b806206-f3b2-4ed5-89c8-02402d053bf7",
   "metadata": {},
   "source": [
    "## Import all relevent libraries"
   ]
  },
  {
   "cell_type": "code",
   "execution_count": null,
   "id": "4fe58038-782d-4230-93da-dde4a99099e3",
   "metadata": {},
   "outputs": [],
   "source": [
    "!pip install seaborn --upgrade\n",
    "!pip install standard-transform\n",
    "import seaborn as sns\n",
    "import random\n",
    "from caveclient import CAVEclient\n",
    "import nglui\n",
    "import numpy as np\n",
    "import pandas as pd \n",
    "import matplotlib.pyplot as plt\n",
    "from phase3 import nda\n",
    "from standard_transform import minnie_transform_vx\n",
    "tform_vx = minnie_transform_vx()"
   ]
  },
  {
   "cell_type": "markdown",
   "id": "f68b5226-701e-475e-b994-ba40dd98b993",
   "metadata": {
    "tags": []
   },
   "source": [
    "## Using CAVEclient to query data"
   ]
  },
  {
   "cell_type": "code",
   "execution_count": null,
   "id": "601a0c00-1b50-45ed-9cc7-a0ac8e487e5f",
   "metadata": {},
   "outputs": [],
   "source": [
    "client = CAVEclient()"
   ]
  },
  {
   "cell_type": "code",
   "execution_count": null,
   "id": "9a93423c-5fb0-4b34-b73d-8de7c71b128a",
   "metadata": {},
   "outputs": [],
   "source": [
    "client.auth.save_token(token=\"a80f7690d93ead1b46e980628df5beae\",overwrite = True)"
   ]
  },
  {
   "cell_type": "code",
   "execution_count": null,
   "id": "9bcb968a-fc51-4622-9913-329347bddce1",
   "metadata": {},
   "outputs": [],
   "source": [
    "# this is the datastack name of the public release\n",
    "# passing it will auto-configure many of the services\n",
    "client = CAVEclient('minnie65_public_v343')"
   ]
  },
  {
   "cell_type": "code",
   "execution_count": null,
   "id": "b0fb6ab7-c3e1-4987-9b3c-d960a8bd0766",
   "metadata": {},
   "outputs": [],
   "source": [
    "#visualize available tables\n",
    "client.materialize.get_tables()"
   ]
  },
  {
   "cell_type": "markdown",
   "id": "4d832a0c-27cc-4000-8518-8927b3bb6b9b",
   "metadata": {},
   "source": [
    "## Filter Data to Obtain Neurons We Want to Observe"
   ]
  },
  {
   "cell_type": "code",
   "execution_count": null,
   "id": "2fbc17f5-b5e8-46ee-8b3d-b8e19a1c831d",
   "metadata": {},
   "outputs": [],
   "source": [
    "df=client.materialize.query_table('functional_coreg') #dataframe of the neurons that have been proofread\n",
    "df_functional = df.set_index('pt_root_id')"
   ]
  },
  {
   "cell_type": "code",
   "execution_count": null,
   "id": "7b47cc0a-8aa1-4f61-8c31-5d89851f9698",
   "metadata": {},
   "outputs": [],
   "source": [
    "df_functional.head() #visualize first couple neurons"
   ]
  },
  {
   "cell_type": "code",
   "execution_count": null,
   "id": "5a7fbcc8-c07d-4736-86c6-f0bc099302cc",
   "metadata": {},
   "outputs": [],
   "source": [
    "root_ids = df_functional.index.tolist() #extract column of IDs to loop over"
   ]
  },
  {
   "cell_type": "code",
   "execution_count": null,
   "id": "7c9ab7cd-0644-4fbc-b9b2-801dcd57658a",
   "metadata": {},
   "outputs": [],
   "source": [
    "#we specify a subsection of neurons here so we can build our synapse data without causing the server to time out\n",
    "subset_ids = root_ids[]"
   ]
  },
  {
   "cell_type": "code",
   "execution_count": null,
   "id": "2e14ba66-749c-47c8-805c-4ecb5e54e2fe",
   "metadata": {},
   "outputs": [],
   "source": [
    "\n",
    "x_values = []\n",
    "y_values = []\n",
    "for id in subset_ids:\n",
    "    input_df = client.materialize.synapse_query(post_ids=id)\n",
    "    \n",
    "    input_df.rename(columns = {'pre_pt_root_id':'pt_root_id'}, inplace = True) \n",
    "   \n",
    "    df_functional_matched = pd.merge(input_df,df_functional,on='pt_root_id',how='inner')\n",
    "    if df_functional_matched.empty:\n",
    "        continue\n",
    "        \n",
    "    #This is the correct depth value that is retrieved by a special function created by the MICrONS team    \n",
    "    input_vertices_list = tform_vx.apply(df_functional_matched['pt_position'])\n",
    "    graph_x_stack = np.vstack(input_vertices_list)\n",
    "    graph_x_values = graph_x_stack[:,1]\n",
    "\n",
    "    output_vertices = tform_vx.apply(df_functional.at[id,'pt_position'])\n",
    "    graph_y_value = output_vertices[1]\n",
    "    if type(graph_y_value) != np.float64:\n",
    "        continue\n",
    "    \n",
    "    num_points = len(graph_x_values)\n",
    "    x_values.extend(graph_x_values)\n",
    "    y_values.extend([graph_y_value]*num_points)\n",
    "    "
   ]
  },
  {
   "cell_type": "code",
   "execution_count": null,
   "id": "ebb8673a-8efd-4460-a2f1-7d59b8066568",
   "metadata": {},
   "outputs": [],
   "source": [
    "df_export = pd.DataFrame(list(zip(x_values, y_values)),\n",
    "               columns =['X Values', 'Y Values'])"
   ]
  },
  {
   "cell_type": "code",
   "execution_count": null,
   "id": "eee1d956-c612-4a17-8576-0e1790e22a13",
   "metadata": {},
   "outputs": [],
   "source": [
    "df_export.to_csv('graph_values.csv')"
   ]
  },
  {
   "cell_type": "code",
   "execution_count": null,
   "id": "db8c6f64-d3f4-4d04-8f21-3e5f8c5931af",
   "metadata": {},
   "outputs": [],
   "source": [
    "sns.jointplot(x=x_values, y=y_values, kind=\"hex\", color=\"#4CB391\")"
   ]
  },
  {
   "cell_type": "code",
   "execution_count": null,
   "id": "12751dea-0cc0-4134-9798-b9824d7ec620",
   "metadata": {},
   "outputs": [],
   "source": []
  }
 ],
 "metadata": {
  "kernelspec": {
   "display_name": "Python 3 (ipykernel)",
   "language": "python",
   "name": "python3"
  },
  "language_info": {
   "codemirror_mode": {
    "name": "ipython",
    "version": 3
   },
   "file_extension": ".py",
   "mimetype": "text/x-python",
   "name": "python",
   "nbconvert_exporter": "python",
   "pygments_lexer": "ipython3",
   "version": "3.8.10"
  }
 },
 "nbformat": 4,
 "nbformat_minor": 5
}
