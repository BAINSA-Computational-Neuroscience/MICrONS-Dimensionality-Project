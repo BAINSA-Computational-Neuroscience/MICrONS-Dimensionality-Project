{
 "cells": [
  {
   "cell_type": "markdown",
   "id": "36b71a51-a890-4853-9eb9-a6f1de769b3e",
   "metadata": {
    "tags": []
   },
   "source": [
    "# Graphing Inputs/Outputs of Pre and Post-Synaptic Neurons"
   ]
  },
  {
   "cell_type": "code",
   "execution_count": null,
   "id": "4fe58038-782d-4230-93da-dde4a99099e3",
   "metadata": {},
   "outputs": [],
   "source": [
    "!pip install seaborn --upgrade\n",
    "import seaborn as sns\n",
    "import pandas as pd "
   ]
  },
  {
   "cell_type": "code",
   "execution_count": null,
   "id": "b16e499b-f935-4e06-8e58-de3e0cc6697c",
   "metadata": {},
   "outputs": [],
   "source": [
    "df_graph = pd.read_csv(\"all_functional_neuron_synapses.csv\")\n",
    "df_graph.head()"
   ]
  },
  {
   "cell_type": "code",
   "execution_count": null,
   "id": "5e13116c-541c-4139-8b45-edf4b668b908",
   "metadata": {},
   "outputs": [],
   "source": [
    "df_graph = df_graph.drop(columns=['Unnamed: 0', 'Unnamed: 0.1'])\n",
    "df_graph.head()"
   ]
  },
  {
   "cell_type": "code",
   "execution_count": null,
   "id": "6fb86dda-0724-4109-a907-d0774cf5678a",
   "metadata": {},
   "outputs": [],
   "source": [
    "df_graph = df_graph.rename(columns={'X Values': 'Input Depth', 'Y Values': 'Output Depth'})\n",
    "df_graph.head()"
   ]
  },
  {
   "cell_type": "code",
   "execution_count": null,
   "id": "11299c73-951c-4aa9-9928-222c84639b74",
   "metadata": {},
   "outputs": [],
   "source": [
    "s = sns.jointplot(x='Input Depth', y='Output Depth', data=df_graph, kind='hex', );\n",
    "s.ax_joint.grid(False);\n",
    "s.ax_marg_y.grid(False);\n",
    "s.fig.suptitle(\"Depth Graph\")\n",
    "s.ax_joint.axvline(x=98)\n",
    "s.ax_joint.axvline(x=283)\n",
    "s.ax_joint.axvline(x=371)\n",
    "s.ax_joint.axvline(x=574)\n",
    "s.ax_joint.axvline(x=713)\n",
    "s.ax_joint.axhline(y=98)\n",
    "s.ax_joint.axhline(y=283)\n",
    "s.ax_joint.axhline(y=371)\n",
    "s.ax_joint.axhline(y=574)\n",
    "s.ax_joint.axhline(y=713)"
   ]
  },
  {
   "cell_type": "code",
   "execution_count": null,
   "id": "ba932291-f1b5-408c-b6a0-05c5e4127671",
   "metadata": {},
   "outputs": [],
   "source": []
  }
 ],
 "metadata": {
  "kernelspec": {
   "display_name": "Python 3 (ipykernel)",
   "language": "python",
   "name": "python3"
  },
  "language_info": {
   "codemirror_mode": {
    "name": "ipython",
    "version": 3
   },
   "file_extension": ".py",
   "mimetype": "text/x-python",
   "name": "python",
   "nbconvert_exporter": "python",
   "pygments_lexer": "ipython3",
   "version": "3.8.10"
  }
 },
 "nbformat": 4,
 "nbformat_minor": 5
}
