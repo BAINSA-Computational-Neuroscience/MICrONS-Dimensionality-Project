{
 "cells": [
  {
   "cell_type": "markdown",
   "id": "1701da67-1da3-4b1e-a483-90919670f98b",
   "metadata": {},
   "source": [
    "# PCA Analysis - Layers"
   ]
  },
  {
   "cell_type": "markdown",
   "id": "c4c5b883",
   "metadata": {},
   "source": [
    "## Import modules"
   ]
  },
  {
   "cell_type": "code",
   "execution_count": 19,
   "id": "b9a72b46-37a2-494b-85df-d693563bd4a7",
   "metadata": {},
   "outputs": [],
   "source": [
    "import numpy as np\n",
    "import pandas as pd \n",
    "import matplotlib.pyplot as plt"
   ]
  },
  {
   "cell_type": "markdown",
   "id": "23120100",
   "metadata": {},
   "source": [
    "## PCA Helper Functions"
   ]
  },
  {
   "cell_type": "markdown",
   "id": "9da900c1",
   "metadata": {},
   "source": [
    "These functions will allow us to run a complete PCA analysis"
   ]
  },
  {
   "cell_type": "code",
   "execution_count": 31,
   "id": "64bfc4d9",
   "metadata": {},
   "outputs": [],
   "source": [
    "def get_sample_cov_matrix(X):\n",
    "  # Standardize data\n",
    "  X = (X - np.mean(X, 0))/np.std(X, 0)\n",
    "\n",
    "  # Calculate the covariance matrix\n",
    "  cov_matrix = 1 / X.shape[0] * np.matmul(X.T, X)\n",
    "\n",
    "  return cov_matrix"
   ]
  },
  {
   "cell_type": "code",
   "execution_count": 24,
   "id": "fcb0609d",
   "metadata": {},
   "outputs": [],
   "source": [
    "#This function sorts the eigenvalues into descending order so that it is possible to see the amount of variance explained by each principle component\n",
    "def sort_evals_descending(evals, evectors):\n",
    "  index = np.flip(np.argsort(evals))\n",
    "  evals = evals[index]\n",
    "  evectors = evectors[:, index]\n",
    "  if evals.shape[0] == 2:\n",
    "    if np.arccos(np.matmul(evectors[:, 0],\n",
    "                           1 / np.sqrt(2) * np.array([1, 1]))) > np.pi / 2:\n",
    "      evectors[:, 0] = -evectors[:, 0]\n",
    "    if np.arccos(np.matmul(evectors[:, 1],\n",
    "                           1 / np.sqrt(2) * np.array([-1, 1]))) > np.pi / 2:\n",
    "      evectors[:, 1] = -evectors[:, 1]\n",
    "  return evals, evectors"
   ]
  },
  {
   "cell_type": "code",
   "execution_count": 32,
   "id": "09cd5433",
   "metadata": {},
   "outputs": [],
   "source": [
    "def pca(X):\n",
    "  # Calculate the sample covariance matrix\n",
    "  cov_matrix = get_sample_cov_matrix(X)\n",
    "\n",
    "  # Calculate the eigenvalues and eigenvectors\n",
    "  evals, evectors = np.linalg.eigh(cov_matrix)\n",
    "\n",
    "  # Sort the eigenvalues in descending order\n",
    "  evals, evectors = sort_evals_descending(evals, evectors)\n",
    "\n",
    "  return evectors, evals\n"
   ]
  },
  {
   "cell_type": "code",
   "execution_count": 28,
   "id": "24471880",
   "metadata": {},
   "outputs": [],
   "source": [
    "def get_variance_explained(evals):\n",
    "  # Cumulatively sum the eigenvalues\n",
    "  csum = np.cumsum(evals)\n",
    "\n",
    "  # Normalize by the sum of eigenvalues\n",
    "  variance_explained = csum / np.sum(evals)\n",
    "\n",
    "  return variance_explained"
   ]
  },
  {
   "cell_type": "code",
   "execution_count": 29,
   "id": "514762ba",
   "metadata": {},
   "outputs": [],
   "source": [
    "#This plotting function gives a plot of the cumulative variance explained by the principle components\n",
    "#Represented with a log scale on the x-axis\n",
    "def plot_variance_explained(variance_explained):\n",
    "  plt.figure()\n",
    "  plt.plot(np.arange(1, len(variance_explained) + 1), variance_explained,\n",
    "           '--k')\n",
    "  plt.xlabel('Number of components')\n",
    "  plt.ylabel('Variance explained')\n",
    "  plt.xscale('log')\n",
    "  plt.show()"
   ]
  },
  {
   "cell_type": "code",
   "execution_count": 62,
   "id": "35da4f49",
   "metadata": {},
   "outputs": [],
   "source": [
    "#This function plots the eigenspectrum (descending order of eigenvalues) of the layer resulting in a downward sloping graph\n",
    "#Represented with a log-log scale\n",
    "def plot_eigenspectrum(evals):\n",
    "    plt.figure()\n",
    "    plt.plot(np.arange(1, len(evals) + 1), evals,\n",
    "             '--k')\n",
    "    plt.xlabel('PC Components')\n",
    "    plt.ylabel('Variance')\n",
    "    plt.xscale('log')\n",
    "    plt.yscale('log')\n",
    "    plt.show()"
   ]
  },
  {
   "cell_type": "code",
   "execution_count": null,
   "id": "b6218969",
   "metadata": {},
   "outputs": [],
   "source": [
    "#Change axis limits depending on the output. X-axis in log scale.\n",
    "def plot_variance_explained_combined_area(variance_explained_area_lm,variance_explained_area_rl,variance_explained_area_al,variance_explained_area_v1):\n",
    "  plt.figure()\n",
    "  plt.plot(np.arange(1, len(variance_explained_area_lm) + 1), variance_explained_area_lm, label = 'Area LM')\n",
    "  plt.plot(np.arange(1, len(variance_explained_area_rl) + 1),variance_explained_area_rl, label = 'Area RL')\n",
    "  plt.plot(np.arange(1, len(variance_explained_area_al) + 1), variance_explained_area_al, label = 'Area AL')\n",
    "  plt.plot(np.arange(1, len(variance_explained_area_v1) + 1), variance_explained_area_v1, label = 'Area V1')\n",
    "  \n",
    "  plt.xlabel('Number of components')\n",
    "  plt.ylabel('Variance explained')\n",
    "  plt.legend()\n",
    "  plt.xscale('log')\n",
    "  plt.show()"
   ]
  },
  {
   "cell_type": "code",
   "execution_count": null,
   "id": "36bc2637",
   "metadata": {},
   "outputs": [],
   "source": [
    "#Change axis limits depending on the output. Log-log scale.\n",
    "def plot_eigenspectrum_combined(evals_area_lm,evals_area_rl,evals_area_al,evals_area_v1):\n",
    "    plt.figure()\n",
    "    x=np.linspace(1,400,400)\n",
    "    y=f(x)\n",
    "    plt.plot(x, y,color = 'black', label = '1/n Decay')\n",
    "    plt.plot(np.arange(1, len(evals_area_lm) + 1), evals_area_lm/np.sum(evals_area_lm), label = 'Area LM')\n",
    "    plt.plot(np.arange(1, len(evals_area_rl) + 1),evals_area_rl/np.sum(evals_area_rl), label = 'Area RL')\n",
    "    plt.plot(np.arange(1, len(evals_area_al) + 1), evals_area_al/np.sum(evals_area_al), label = 'Area AL')\n",
    "    plt.plot(np.arange(1, len(evals_area_v1) + 1), evals_area_v1/np.sum(evals_area_v1), label = 'Area V1')\n",
    "    plt.xlabel('PC Components')\n",
    "    plt.ylabel('Variance')\n",
    "    plt.xscale('log')\n",
    "    plt.yscale('log')\n",
    "    plt.legend()\n",
    "    plt.show()"
   ]
  },
  {
   "cell_type": "code",
   "execution_count": 83,
   "id": "2a388d56",
   "metadata": {},
   "outputs": [],
   "source": [
    "#Reference decay rate for graphs\n",
    "def f(x):\n",
    "    return 1/x"
   ]
  },
  {
   "attachments": {},
   "cell_type": "markdown",
   "id": "03bc0b4e",
   "metadata": {},
   "source": [
    "## Area V1 Analysis"
   ]
  },
  {
   "cell_type": "code",
   "execution_count": null,
   "id": "cc4d5e5b",
   "metadata": {},
   "outputs": [],
   "source": [
    "df_v1_1_to_1000 = pd.read_csv(\"v1_1_to_1000.csv\", header= None)\n",
    "df_v1_1001_to_2000 = pd.read_csv(\"v1_1001_to_2000.csv\", header= None)\n",
    "df_v1_2001_to_3000 = pd.read_csv(\"v1_2001_to_3000.csv\", header= None)\n",
    "df_v1_3001_to_4000 = pd.read_csv(\"v1_3001_to_4000.csv\", header= None)\n",
    "df_v1_4001_to_4681 = pd.read_csv(\"v1_4001_to_4682.csv\", header= None)\n",
    "frames = [df_v1_1_to_1000, df_v1_1001_to_2000, df_v1_2001_to_3000, df_v1_3001_to_4000, df_v1_4001_to_4681]\n",
    "\n",
    "df_area_v1 = pd.concat(frames)\n",
    "df_area_v1 = df_area_v1.T\n",
    "df_area_v1 = df_area_v1.to_numpy()\n",
    "df_area_v1"
   ]
  },
  {
   "cell_type": "code",
   "execution_count": null,
   "id": "671a8f2d",
   "metadata": {},
   "outputs": [],
   "source": [
    "# Perform PCA on the data matrix\n",
    "evectors_area_v1, evals_area_v1 = pca(df_area_v1)"
   ]
  },
  {
   "cell_type": "code",
   "execution_count": null,
   "id": "68911af5",
   "metadata": {},
   "outputs": [],
   "source": [
    "# Calculate the variance explained\n",
    "variance_explained_area_v1 = get_variance_explained(evals_area_v1)\n",
    "\n",
    "plot_variance_explained(variance_explained_area_v1)"
   ]
  },
  {
   "cell_type": "code",
   "execution_count": null,
   "id": "3ac2e4d6",
   "metadata": {},
   "outputs": [],
   "source": [
    "#Remove outliers eigenvalues\n",
    "plot_eigenspectrum(evals_area_v1[:377])"
   ]
  },
  {
   "cell_type": "markdown",
   "id": "6be042a3",
   "metadata": {},
   "source": [
    "## Area RL Analysis"
   ]
  },
  {
   "cell_type": "code",
   "execution_count": null,
   "id": "e9a4e884",
   "metadata": {},
   "outputs": [],
   "source": [
    "df_rl_1_to_1000 = pd.read_csv(\"rl_1_to_1000.csv\", header= None)\n",
    "df_rl_1001_to_2000 = pd.read_csv(\"rl_1001_to_2000.csv\", header= None)\n",
    "df_rl_2001_to_2513 = pd.read_csv(\"rl_2001_to_2513.csv\", header= None)\n",
    "frames = [df_rl_1_to_1000, df_rl_1001_to_2000, df_rl_2001_to_2513]\n",
    "\n",
    "df_area_rl = pd.concat(frames)\n",
    "df_area_rl = df_area_rl.T\n",
    "df_area_rl = df_area_rl.to_numpy()\n",
    "df_area_rl"
   ]
  },
  {
   "cell_type": "code",
   "execution_count": null,
   "id": "8f227e12",
   "metadata": {},
   "outputs": [],
   "source": [
    "evectors_area_rl, evals_area_rl = pca(df_area_rl)"
   ]
  },
  {
   "cell_type": "code",
   "execution_count": null,
   "id": "1a8261e5",
   "metadata": {},
   "outputs": [],
   "source": [
    "variance_explained_area_rl = get_variance_explained(evals_area_rl)\n",
    "\n",
    "plot_variance_explained(variance_explained_area_rl)"
   ]
  },
  {
   "cell_type": "code",
   "execution_count": null,
   "id": "4a03d92e",
   "metadata": {},
   "outputs": [],
   "source": [
    "plot_eigenspectrum(evals_area_rl[:377])"
   ]
  },
  {
   "cell_type": "markdown",
   "id": "d296a0a1",
   "metadata": {},
   "source": [
    "## Area AL Analysis"
   ]
  },
  {
   "cell_type": "code",
   "execution_count": null,
   "id": "1fa03c5f",
   "metadata": {},
   "outputs": [],
   "source": [
    "df_area_al = pd.read_csv('al_1_to_967.csv', header = None)   \n",
    "df_area_al = df_area_al.T\n",
    "df_area_al = df_area_al.to_numpy()\n",
    "df_area_al"
   ]
  },
  {
   "cell_type": "code",
   "execution_count": null,
   "id": "1a6c2159",
   "metadata": {},
   "outputs": [],
   "source": [
    "evectors_area_al, evals_area_al = pca(df_area_al)"
   ]
  },
  {
   "cell_type": "code",
   "execution_count": null,
   "id": "8e161755",
   "metadata": {},
   "outputs": [],
   "source": [
    "variance_explained_area_al = get_variance_explained(evals_area_al)\n",
    "\n",
    "plot_variance_explained(variance_explained_area_al)"
   ]
  },
  {
   "cell_type": "code",
   "execution_count": null,
   "id": "13bb74ce",
   "metadata": {},
   "outputs": [],
   "source": [
    "plot_eigenspectrum(evals_area_al[:377])"
   ]
  },
  {
   "cell_type": "markdown",
   "id": "3fe8bc95",
   "metadata": {},
   "source": [
    "## Area LM Analysis"
   ]
  },
  {
   "cell_type": "code",
   "execution_count": null,
   "id": "72f46871",
   "metadata": {},
   "outputs": [],
   "source": [
    "df_area_lm = pd.read_csv('lm_1_to_33.csv', header = None)   \n",
    "df_area_lm = df_area_lm.T\n",
    "df_area_lm = df_area_lm.to_numpy()\n",
    "df_area_lm"
   ]
  },
  {
   "cell_type": "code",
   "execution_count": null,
   "id": "676062df",
   "metadata": {},
   "outputs": [],
   "source": [
    "evectors_area_lm, evals_area_lm = pca(df_area_lm)"
   ]
  },
  {
   "cell_type": "code",
   "execution_count": null,
   "id": "20b0a029",
   "metadata": {},
   "outputs": [],
   "source": [
    "variance_explained_area_lm = get_variance_explained(evals_area_lm)\n",
    "\n",
    "plot_variance_explained(variance_explained_area_lm)"
   ]
  },
  {
   "cell_type": "code",
   "execution_count": null,
   "id": "fb748e71",
   "metadata": {},
   "outputs": [],
   "source": [
    "plot_eigenspectrum(evals_area_lm)"
   ]
  },
  {
   "cell_type": "markdown",
   "id": "acde6fab",
   "metadata": {},
   "source": [
    "## Combined Area Visualization"
   ]
  },
  {
   "cell_type": "code",
   "execution_count": 55,
   "id": "e1aa46f4",
   "metadata": {},
   "outputs": [],
   "source": [
    "variance_explained_area_v1,variance_explained_area_rl,variance_explained_area_al,variance_explained_area_lm = get_variance_explained_combined(evals_area_v1,evals_area_rl,evals_area_al,evals_area_lm)"
   ]
  },
  {
   "cell_type": "code",
   "execution_count": null,
   "id": "1d00fe9f",
   "metadata": {},
   "outputs": [],
   "source": [
    "plot_variance_explained_combined(variance_explained_area_v1,variance_explained_area_rl,variance_explained_area_al,variance_explained_area_lm)"
   ]
  },
  {
   "cell_type": "code",
   "execution_count": null,
   "id": "6ffc25c0",
   "metadata": {},
   "outputs": [],
   "source": [
    "plot_eigenspectrum_combined(evals_area_v1,evals_area_rl,evals_area_al,evals_area_lm)"
   ]
  }
 ],
 "metadata": {
  "kernelspec": {
   "display_name": "Python 3 (ipykernel)",
   "language": "python",
   "name": "python3"
  },
  "language_info": {
   "codemirror_mode": {
    "name": "ipython",
    "version": 3
   },
   "file_extension": ".py",
   "mimetype": "text/x-python",
   "name": "python",
   "nbconvert_exporter": "python",
   "pygments_lexer": "ipython3",
   "version": "3.9.17"
  }
 },
 "nbformat": 4,
 "nbformat_minor": 5
}
