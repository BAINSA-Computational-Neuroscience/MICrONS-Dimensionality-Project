{
 "cells": [
  {
   "cell_type": "markdown",
   "id": "78306796-2a79-48b1-9e48-746da37cb5d0",
   "metadata": {
    "tags": []
   },
   "source": [
    "# Graphing Inputs/Outputs of Pre and Post-Synaptic Neurons"
   ]
  },
  {
   "cell_type": "markdown",
   "id": "7105e39c-54c3-48c4-8e49-480e72bddf7b",
   "metadata": {},
   "source": [
    "## Import all relevent libraries"
   ]
  },
  {
   "cell_type": "code",
   "execution_count": null,
   "id": "a2e21e35-94cb-4f35-a651-4aaf16d7ad94",
   "metadata": {},
   "outputs": [],
   "source": [
    "#Import all relevent libraries\n",
    "from caveclient import CAVEclient\n",
    "import nglui\n",
    "import numpy as np\n",
    "import pandas as pd \n",
    "import matplotlib.pyplot as plt\n",
    "from phase3 import nda"
   ]
  },
  {
   "cell_type": "markdown",
   "id": "555ef7b9-1524-43b5-9920-a5f55af021eb",
   "metadata": {},
   "source": [
    "## Using CAVEclient to query data"
   ]
  },
  {
   "cell_type": "code",
   "execution_count": null,
   "id": "a153c7cb-0ade-4394-bbf6-3f20e17378df",
   "metadata": {},
   "outputs": [],
   "source": [
    "client = CAVEclient()"
   ]
  },
  {
   "cell_type": "code",
   "execution_count": null,
   "id": "d5c2a82d-4bcd-4377-9cfa-3d75bbb2c935",
   "metadata": {},
   "outputs": [],
   "source": [
    "client.auth.save_token(token=\"a80f7690d93ead1b46e980628df5beae\",overwrite = True)"
   ]
  },
  {
   "cell_type": "code",
   "execution_count": null,
   "id": "5eca3301-1694-4714-be0f-5184148929ad",
   "metadata": {},
   "outputs": [],
   "source": [
    "# this is the datastack name of the public release\n",
    "# passing it will auto-configure many of the services\n",
    "client = CAVEclient('minnie65_public_v343')"
   ]
  },
  {
   "cell_type": "code",
   "execution_count": null,
   "id": "f27c8fae-b59b-44ee-b07d-49d39203ef69",
   "metadata": {},
   "outputs": [],
   "source": [
    "client.materialize.get_tables()"
   ]
  },
  {
   "cell_type": "markdown",
   "id": "8cf7f653-6d6b-4297-be2c-0abe00e894b0",
   "metadata": {},
   "source": [
    "## Filter Data to Obtain Neurons w/ Functional Co-registration"
   ]
  },
  {
   "cell_type": "code",
   "execution_count": null,
   "id": "cdd54ade-508a-44c1-97c4-dc9901950bfd",
   "metadata": {},
   "outputs": [],
   "source": [
    "df_fun_coreg=client.materialize.query_table('functional_coreg') #dataframe of the neurons that have functional data available"
   ]
  },
  {
   "cell_type": "code",
   "execution_count": null,
   "id": "716c08e0-86d2-4356-8e1f-ffa7960a4aec",
   "metadata": {},
   "outputs": [],
   "source": [
    "df_fun_coreg.head() #visualize first couple neurons"
   ]
  },
  {
   "cell_type": "code",
   "execution_count": null,
   "id": "8f093c6d-fc24-42b5-a50e-359bbe256aff",
   "metadata": {},
   "outputs": [],
   "source": [
    "seg_ids = df_fun_coreg.iloc[:, 3] #extract column of IDs to loop over\n",
    "seg_ids"
   ]
  },
  {
   "cell_type": "markdown",
   "id": "858f77f9-69d6-47e0-9635-74368e188571",
   "metadata": {},
   "source": [
    "## Loop Over Neurons to Plot Input/Output Depth"
   ]
  },
  {
   "cell_type": "code",
   "execution_count": null,
   "id": "23b6c8fc-58fd-49f9-ae1b-0a263c70b53f",
   "metadata": {},
   "outputs": [],
   "source": [
    " #for loop so we can obtain the depth values for each presynaptic neuron\n",
    "for id in seg_ids[:30]:\n",
    "    seg_id = id #define a single neuron to look at pre/post synaptic connections\n",
    "    input_df = client.materialize.synapse_query(post_ids=seg_id) #define inputs (presynaptic neurons) of the cell\n",
    "    input_df.rename(columns = {'pre_pt_root_id':'pt_root_id'}, inplace = True) #rename presynaptic id column so we can inner join with df_fun_coreg\n",
    "    fun_coreg_matched_df = pd.merge(input_df,df_fun_coreg,on='pt_root_id',how='inner') #merge the tables to filter for presynaptic connections that are also in the functional set\n",
    "    \n",
    "    #this for loop allows us to get the \"scan keys\" for each of the neurons in the \"fun_coreg_matched_df\" table.\n",
    "    scan_keys = []\n",
    "    dict1 = {}\n",
    "    for i in range(len(fun_coreg_matched_df)):\n",
    "        dict1 = {'session': fun_coreg_matched_df.loc[i].at['session'], 'scan_idx': fun_coreg_matched_df.loc[i].at['scan_idx'], 'unit_id': fun_coreg_matched_df.loc[i].at['unit_id']}\n",
    "        scan_keys.append(dict1)\n",
    "      \n",
    "    #using the scan_keys, we can obtain the depth value for each of the presynaptic connections to the current neuron in the loop. This will be graph on the X-Axis as \"Input Depth\"\n",
    "    graph_x_values= np.stack((nda.StackUnit() & scan_keys).fetch('stack_z'))\n",
    "    \n",
    "    #this if statement checks if the list of presynaptic neuron depths is an empty set. If it is empty, we end the current iteration\n",
    "    if graph_x_values.any() == False:\n",
    "        continue\n",
    "        \n",
    "    #The next 2 lines get the depth of the current neuron. This will be graphed on the Y-Axis as \"Output Depth\n",
    "    f= nda.StackUnit() & df_fun_coreg.loc[df_fun_coreg[\"pt_root_id\"]==id]\n",
    "    graph_y_value = np.stack((f).fetch(\"stack_z\"), -1)\n",
    "    \n",
    "    #Because \"graph_y_value\" is the depth of a single neuron, there should be only a singular value in the list. However, we have seen some anomolies where there are multiple depths listed\n",
    "    #Until we figure out why this occurs, we simply filter out these neurons. The amount of anomolies relative to the size of the whole set is insignificant so this does not affect our output.\n",
    "    if len(graph_y_value) != 1:\n",
    "        continue\n",
    "        \n",
    "    #Graph the current neuron depth as Output Depth and all it's presynaptic cell depths as input depths. Each iteration will usually result in multiple datapoints on the plot\n",
    "    for ye in graph_x_values:\n",
    "        plt.scatter(ye, graph_y_value, s=1)\n",
    "    \n",
    "    \n",
    "    \n",
    "    \n",
    "    \n",
    "    "
   ]
  }
 ],
 "metadata": {
  "kernelspec": {
   "display_name": "Python 3 (ipykernel)",
   "language": "python",
   "name": "python3"
  },
  "language_info": {
   "codemirror_mode": {
    "name": "ipython",
    "version": 3
   },
   "file_extension": ".py",
   "mimetype": "text/x-python",
   "name": "python",
   "nbconvert_exporter": "python",
   "pygments_lexer": "ipython3",
   "version": "3.9.7"
  }
 },
 "nbformat": 4,
 "nbformat_minor": 5
}
