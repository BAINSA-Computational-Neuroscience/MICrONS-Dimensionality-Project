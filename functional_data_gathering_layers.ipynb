{
 "cells": [
  {
   "cell_type": "markdown",
   "id": "1701da67-1da3-4b1e-a483-90919670f98b",
   "metadata": {},
   "source": [
    "# Functional Data Gathering - Layers"
   ]
  },
  {
   "cell_type": "markdown",
   "id": "c4c5b883",
   "metadata": {},
   "source": [
    "## Import modules"
   ]
  },
  {
   "cell_type": "code",
   "execution_count": 2,
   "id": "b9a72b46-37a2-494b-85df-d693563bd4a7",
   "metadata": {},
   "outputs": [],
   "source": [
    "from caveclient import CAVEclient\n",
    "import nglui\n",
    "import numpy as np\n",
    "import pandas as pd \n",
    "import matplotlib.pyplot as plt\n",
    "from microns_phase3 import nda, utils\n",
    "from standard_transform import minnie_transform_vx\n",
    "tform_vx = minnie_transform_vx()"
   ]
  },
  {
   "attachments": {},
   "cell_type": "markdown",
   "id": "e35003a8-2d4b-47cc-a03d-dc60ae03ad38",
   "metadata": {
    "tags": []
   },
   "source": [
    "## Building the dataframe of all functional cells"
   ]
  },
  {
   "cell_type": "code",
   "execution_count": null,
   "id": "d5999fbe-68f1-47cd-9476-66a9ce1e8dde",
   "metadata": {},
   "outputs": [],
   "source": [
    "client = CAVEclient()\n",
    "\n",
    "client.auth.save_token(token=\"a80f7690d93ead1b46e980628df5beae\",overwrite = True)\n",
    "\n",
    "# this is the datastack name of the public release\n",
    "# passing it will auto-configure many of the services\n",
    "client = CAVEclient('minnie65_public_v343')\n",
    "\n",
    "#visualize available tables\n",
    "client.materialize.get_tables()"
   ]
  },
  {
   "cell_type": "code",
   "execution_count": null,
   "id": "7532f060-0db4-4693-a389-883474e94faf",
   "metadata": {},
   "outputs": [],
   "source": [
    "df=client.materialize.query_table('functional_coreg') #dataframe of the functionally co-registered neurons\n",
    "df.head() #visualize first couple neurons"
   ]
  },
  {
   "cell_type": "code",
   "execution_count": 4,
   "id": "e7cdea46",
   "metadata": {},
   "outputs": [],
   "source": [
    "#This transform function uses the pt_position column to give the depth value measured in microns\n",
    "#this will allow us to select neurons based on their layer membership\n",
    "transform = tform_vx.apply(df['pt_position'])\n",
    "matrix_stacked = np.vstack(transform)\n",
    "depths = matrix_stacked[:,1]"
   ]
  },
  {
   "cell_type": "code",
   "execution_count": 5,
   "metadata": {},
   "outputs": [
    {
     "data": {
      "text/html": [
       "<div>\n",
       "<style scoped>\n",
       "    .dataframe tbody tr th:only-of-type {\n",
       "        vertical-align: middle;\n",
       "    }\n",
       "\n",
       "    .dataframe tbody tr th {\n",
       "        vertical-align: top;\n",
       "    }\n",
       "\n",
       "    .dataframe thead th {\n",
       "        text-align: right;\n",
       "    }\n",
       "</style>\n",
       "<table border=\"1\" class=\"dataframe\">\n",
       "  <thead>\n",
       "    <tr style=\"text-align: right;\">\n",
       "      <th></th>\n",
       "      <th>id</th>\n",
       "      <th>valid</th>\n",
       "      <th>pt_supervoxel_id</th>\n",
       "      <th>pt_root_id</th>\n",
       "      <th>session</th>\n",
       "      <th>scan_idx</th>\n",
       "      <th>unit_id</th>\n",
       "      <th>depth</th>\n",
       "    </tr>\n",
       "  </thead>\n",
       "  <tbody>\n",
       "    <tr>\n",
       "      <th>0</th>\n",
       "      <td>1</td>\n",
       "      <td>t</td>\n",
       "      <td>102531727972419182</td>\n",
       "      <td>864691136136642173</td>\n",
       "      <td>4</td>\n",
       "      <td>7</td>\n",
       "      <td>665</td>\n",
       "      <td>73.977104</td>\n",
       "    </tr>\n",
       "    <tr>\n",
       "      <th>1</th>\n",
       "      <td>2</td>\n",
       "      <td>t</td>\n",
       "      <td>94792540099826672</td>\n",
       "      <td>864691136208993724</td>\n",
       "      <td>4</td>\n",
       "      <td>7</td>\n",
       "      <td>740</td>\n",
       "      <td>95.132458</td>\n",
       "    </tr>\n",
       "    <tr>\n",
       "      <th>2</th>\n",
       "      <td>4</td>\n",
       "      <td>t</td>\n",
       "      <td>93946810036875732</td>\n",
       "      <td>864691135683934135</td>\n",
       "      <td>4</td>\n",
       "      <td>7</td>\n",
       "      <td>782</td>\n",
       "      <td>54.018588</td>\n",
       "    </tr>\n",
       "    <tr>\n",
       "      <th>3</th>\n",
       "      <td>5</td>\n",
       "      <td>t</td>\n",
       "      <td>84730565597057981</td>\n",
       "      <td>864691135334528233</td>\n",
       "      <td>4</td>\n",
       "      <td>7</td>\n",
       "      <td>855</td>\n",
       "      <td>92.403500</td>\n",
       "    </tr>\n",
       "    <tr>\n",
       "      <th>4</th>\n",
       "      <td>6</td>\n",
       "      <td>t</td>\n",
       "      <td>110905058841147285</td>\n",
       "      <td>864691136309730650</td>\n",
       "      <td>4</td>\n",
       "      <td>7</td>\n",
       "      <td>921</td>\n",
       "      <td>79.517182</td>\n",
       "    </tr>\n",
       "  </tbody>\n",
       "</table>\n",
       "</div>"
      ],
      "text/plain": [
       "   id valid    pt_supervoxel_id          pt_root_id  session  scan_idx  \\\n",
       "0   1     t  102531727972419182  864691136136642173        4         7   \n",
       "1   2     t   94792540099826672  864691136208993724        4         7   \n",
       "2   4     t   93946810036875732  864691135683934135        4         7   \n",
       "3   5     t   84730565597057981  864691135334528233        4         7   \n",
       "4   6     t  110905058841147285  864691136309730650        4         7   \n",
       "\n",
       "   unit_id      depth  \n",
       "0      665  73.977104  \n",
       "1      740  95.132458  \n",
       "2      782  54.018588  \n",
       "3      855  92.403500  \n",
       "4      921  79.517182  "
      ]
     },
     "execution_count": 5,
     "metadata": {},
     "output_type": "execute_result"
    }
   ],
   "source": [
    "#This final transformation gives us the dataframe with the depths of every neuron listed in the pt_position column\n",
    "df['pt_position'] = depths\n",
    "df = df.rename(columns={'pt_position': 'depth'})\n",
    "df.head()"
   ]
  },
  {
   "attachments": {},
   "cell_type": "markdown",
   "id": "03bc0b4e",
   "metadata": {},
   "source": [
    "## Layer 1 Gathering"
   ]
  },
  {
   "cell_type": "code",
   "execution_count": 15,
   "id": "7182e48b",
   "metadata": {},
   "outputs": [
    {
     "data": {
      "text/html": [
       "<div>\n",
       "<style scoped>\n",
       "    .dataframe tbody tr th:only-of-type {\n",
       "        vertical-align: middle;\n",
       "    }\n",
       "\n",
       "    .dataframe tbody tr th {\n",
       "        vertical-align: top;\n",
       "    }\n",
       "\n",
       "    .dataframe thead th {\n",
       "        text-align: right;\n",
       "    }\n",
       "</style>\n",
       "<table border=\"1\" class=\"dataframe\">\n",
       "  <thead>\n",
       "    <tr style=\"text-align: right;\">\n",
       "      <th></th>\n",
       "      <th>id</th>\n",
       "      <th>valid</th>\n",
       "      <th>pt_supervoxel_id</th>\n",
       "      <th>pt_root_id</th>\n",
       "      <th>session</th>\n",
       "      <th>scan_idx</th>\n",
       "      <th>unit_id</th>\n",
       "      <th>depth</th>\n",
       "    </tr>\n",
       "  </thead>\n",
       "  <tbody>\n",
       "    <tr>\n",
       "      <th>0</th>\n",
       "      <td>1</td>\n",
       "      <td>t</td>\n",
       "      <td>102531727972419182</td>\n",
       "      <td>864691136136642173</td>\n",
       "      <td>4</td>\n",
       "      <td>7</td>\n",
       "      <td>665</td>\n",
       "      <td>73.977104</td>\n",
       "    </tr>\n",
       "    <tr>\n",
       "      <th>1</th>\n",
       "      <td>2</td>\n",
       "      <td>t</td>\n",
       "      <td>94792540099826672</td>\n",
       "      <td>864691136208993724</td>\n",
       "      <td>4</td>\n",
       "      <td>7</td>\n",
       "      <td>740</td>\n",
       "      <td>95.132458</td>\n",
       "    </tr>\n",
       "    <tr>\n",
       "      <th>2</th>\n",
       "      <td>4</td>\n",
       "      <td>t</td>\n",
       "      <td>93946810036875732</td>\n",
       "      <td>864691135683934135</td>\n",
       "      <td>4</td>\n",
       "      <td>7</td>\n",
       "      <td>782</td>\n",
       "      <td>54.018588</td>\n",
       "    </tr>\n",
       "    <tr>\n",
       "      <th>3</th>\n",
       "      <td>5</td>\n",
       "      <td>t</td>\n",
       "      <td>84730565597057981</td>\n",
       "      <td>864691135334528233</td>\n",
       "      <td>4</td>\n",
       "      <td>7</td>\n",
       "      <td>855</td>\n",
       "      <td>92.403500</td>\n",
       "    </tr>\n",
       "    <tr>\n",
       "      <th>4</th>\n",
       "      <td>6</td>\n",
       "      <td>t</td>\n",
       "      <td>110905058841147285</td>\n",
       "      <td>864691136309730650</td>\n",
       "      <td>4</td>\n",
       "      <td>7</td>\n",
       "      <td>921</td>\n",
       "      <td>79.517182</td>\n",
       "    </tr>\n",
       "  </tbody>\n",
       "</table>\n",
       "</div>"
      ],
      "text/plain": [
       "   id valid    pt_supervoxel_id          pt_root_id  session  scan_idx  \\\n",
       "0   1     t  102531727972419182  864691136136642173        4         7   \n",
       "1   2     t   94792540099826672  864691136208993724        4         7   \n",
       "2   4     t   93946810036875732  864691135683934135        4         7   \n",
       "3   5     t   84730565597057981  864691135334528233        4         7   \n",
       "4   6     t  110905058841147285  864691136309730650        4         7   \n",
       "\n",
       "   unit_id      depth  \n",
       "0      665  73.977104  \n",
       "1      740  95.132458  \n",
       "2      782  54.018588  \n",
       "3      855  92.403500  \n",
       "4      921  79.517182  "
      ]
     },
     "execution_count": 15,
     "metadata": {},
     "output_type": "execute_result"
    }
   ],
   "source": [
    "#creating dataframe with filtered depths values. This ensures we have only neurons that are in layer 1\n",
    "df_layer1 = df.loc[(df['depth'] <= 98)]\n",
    "df_layer1.head()"
   ]
  },
  {
   "cell_type": "markdown",
   "id": "5cbe5d32",
   "metadata": {},
   "source": [
    "This loop iterates over the layer 1 dataframe taking each neurons identification and using it as an input into the fetch_oracle_raster method.\n",
    "This method returns a 3d array with 10 repititions of 6 stimulus trials. Each trial contains 63 frames.\n",
    "\n",
    "Each frame is then averaged over the 10 repititions and combined into 1 array of length 378. This corresponds to the average activity of the current neuron in response to each frame.\n",
    "\n",
    "The data subsection is then turned into a Numpy array and downloaded as a csv file. Due to timeout issues, this process must be done in chunks and the csv files will later be combined to form the dataframe for the whole layer.\n",
    "\n",
    "This process is then repeated for each layer."
   ]
  },
  {
   "cell_type": "code",
   "execution_count": null,
   "id": "a5652266",
   "metadata": {},
   "outputs": [],
   "source": [
    "list_layer1 = []\n",
    "for row in range():\n",
    "    unit_key = {'session': df_layer1.iloc[row]['session'], 'scan_idx': df_layer1.iloc[row]['scan_idx'], 'unit_id': df_layer1.iloc[row]['unit_id']}\n",
    "    oracle_traces, score = utils.fetch_oracle_raster(unit_key)\n",
    "    avg_activity = []\n",
    "    for i in range(6):\n",
    "        for j in range(63):\n",
    "            avg_activity.append(sum(oracle_traces[:, i, j])/10)\n",
    "    list_layer1.append(avg_activity)\n",
    "data_layer1 = np.array(list_layer1)\n",
    "np.savetxt('layer1_subsection.csv', data_layer1, delimiter= ',')\n",
    "    "
   ]
  },
  {
   "cell_type": "markdown",
   "id": "6be042a3",
   "metadata": {},
   "source": [
    "## Layer 2/3 Gathering"
   ]
  },
  {
   "cell_type": "code",
   "execution_count": null,
   "id": "a646b970",
   "metadata": {},
   "outputs": [],
   "source": [
    "df_layer2_3 = df[df['depth'].between(98, 283)]\n",
    "df_layer2_3"
   ]
  },
  {
   "cell_type": "code",
   "execution_count": null,
   "id": "33af457c",
   "metadata": {},
   "outputs": [],
   "source": [
    "list_layer2_3 = []\n",
    "for row in range():\n",
    "    unit_key = {'session': df_layer2_3.iloc[row]['session'], 'scan_idx': df_layer2_3.iloc[row]['scan_idx'], 'unit_id': df_layer2_3.iloc[row]['unit_id']}\n",
    "    oracle_traces, score = utils.fetch_oracle_raster(unit_key)\n",
    "    avg_activity = []\n",
    "    for i in range(6):\n",
    "        for j in range(63):\n",
    "            avg_activity.append(sum(oracle_traces[:, i, j])/10)\n",
    "    list_layer2_3.append(avg_activity)\n",
    "data_layer2_3 = np.array(list_layer2_3)\n",
    "np.savetxt('layer2_subsection.csv', data_layer2_3, delimiter= ',')"
   ]
  },
  {
   "cell_type": "markdown",
   "id": "d296a0a1",
   "metadata": {},
   "source": [
    "## Layer 4 Gathering"
   ]
  },
  {
   "cell_type": "code",
   "execution_count": null,
   "id": "c8b54907",
   "metadata": {},
   "outputs": [],
   "source": [
    "df_layer4 = df[df['depth'].between(283, 371)]\n",
    "df_layer4.head()"
   ]
  },
  {
   "cell_type": "code",
   "execution_count": null,
   "id": "a1216e96",
   "metadata": {},
   "outputs": [],
   "source": [
    "list_layer4 = []\n",
    "for row in range():\n",
    "    unit_key = {'session': df_layer4.iloc[row]['session'], 'scan_idx': df_layer4.iloc[row]['scan_idx'], 'unit_id': df_layer4.iloc[row]['unit_id']}\n",
    "    oracle_traces, score = utils.fetch_oracle_raster(unit_key)\n",
    "    avg_activity = []\n",
    "    for i in range(6):\n",
    "        for j in range(63):\n",
    "            avg_activity.append(sum(oracle_traces[:, i, j])/10)\n",
    "    list_layer4.append(avg_activity)\n",
    "data_layer4 = np.array(list_layer4)\n",
    "np.savetxt('layer4_subsection.csv', data_layer4, delimiter= ',')"
   ]
  },
  {
   "cell_type": "markdown",
   "id": "3fe8bc95",
   "metadata": {},
   "source": [
    "## Layer 5 Gathering"
   ]
  },
  {
   "cell_type": "code",
   "execution_count": null,
   "id": "c37a7512",
   "metadata": {},
   "outputs": [],
   "source": [
    "df_layer5 = df[df['depth'].between(371, 574)]\n",
    "df_layer5.head()"
   ]
  },
  {
   "cell_type": "code",
   "execution_count": null,
   "id": "a61ab511",
   "metadata": {},
   "outputs": [],
   "source": [
    "list_layer5 = []\n",
    "for row in range():\n",
    "    unit_key = {'session': df_layer5.iloc[row]['session'], 'scan_idx': df_layer5.iloc[row]['scan_idx'], 'unit_id': df_layer5.iloc[row]['unit_id']}\n",
    "    oracle_traces, score = utils.fetch_oracle_raster(unit_key)\n",
    "    avg_activity = []\n",
    "    for i in range(6):\n",
    "        for j in range(63):\n",
    "            avg_activity.append(sum(oracle_traces[:, i, j])/10)\n",
    "    list_layer5.append(avg_activity)\n",
    "data_layer5 = np.array(list_layer5)\n",
    "np.savetxt('layer5_subsection.csv', data_layer5, delimiter= ',')"
   ]
  },
  {
   "cell_type": "markdown",
   "id": "c5dd734d",
   "metadata": {},
   "source": [
    "## Layer 6 Gathering"
   ]
  },
  {
   "cell_type": "code",
   "execution_count": null,
   "id": "bb7e0f44",
   "metadata": {},
   "outputs": [],
   "source": [
    "df_layer6 = df[df['depth'].between(574, 713)]\n",
    "df_layer6.head()"
   ]
  },
  {
   "cell_type": "code",
   "execution_count": null,
   "id": "916f9c2d",
   "metadata": {},
   "outputs": [],
   "source": [
    "list_layer6 = []\n",
    "for row in range():\n",
    "    unit_key = {'session': df_layer6.iloc[row]['session'], 'scan_idx': df_layer6.iloc[row]['scan_idx'], 'unit_id': df_layer6.iloc[row]['unit_id']}\n",
    "    oracle_traces, score = utils.fetch_oracle_raster(unit_key)\n",
    "    avg_activity = []\n",
    "    for i in range(6):\n",
    "        for j in range(63):\n",
    "            avg_activity.append(sum(oracle_traces[:, i, j])/10)\n",
    "    list_layer6.append(avg_activity)\n",
    "data_layer6 = np.array(list_layer6)\n",
    "np.savetxt('layer6_subsection.csv', data_layer6, delimiter= ',')"
   ]
  }
 ],
 "metadata": {
  "kernelspec": {
   "display_name": "Python 3 (ipykernel)",
   "language": "python",
   "name": "python3"
  },
  "language_info": {
   "codemirror_mode": {
    "name": "ipython",
    "version": 3
   },
   "file_extension": ".py",
   "mimetype": "text/x-python",
   "name": "python",
   "nbconvert_exporter": "python",
   "pygments_lexer": "ipython3",
   "version": "3.9.17"
  }
 },
 "nbformat": 4,
 "nbformat_minor": 5
}
