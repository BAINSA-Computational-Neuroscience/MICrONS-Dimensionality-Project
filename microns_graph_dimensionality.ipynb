{
 "cells": [
  {
   "cell_type": "markdown",
   "id": "78306796-2a79-48b1-9e48-746da37cb5d0",
   "metadata": {},
   "source": [
    "# Graphing Inputs/Outputs of Pre and Post-Synaptic Neurons"
   ]
  },
  {
   "cell_type": "markdown",
   "id": "7105e39c-54c3-48c4-8e49-480e72bddf7b",
   "metadata": {},
   "source": [
    "## Import all relevent libraries"
   ]
  },
  {
   "cell_type": "code",
   "execution_count": null,
   "id": "a2e21e35-94cb-4f35-a651-4aaf16d7ad94",
   "metadata": {},
   "outputs": [],
   "source": [
    "#Import all relevent libraries\n",
    "from caveclient import CAVEclient\n",
    "import nglui\n",
    "import numpy as np\n",
    "import pandas as pd \n",
    "import matplotlib.pyplot as plt\n",
    "from phase3 import nda"
   ]
  },
  {
   "cell_type": "markdown",
   "id": "555ef7b9-1524-43b5-9920-a5f55af021eb",
   "metadata": {},
   "source": [
    "## Using CAVEclient to query data"
   ]
  },
  {
   "cell_type": "code",
   "execution_count": null,
   "id": "a153c7cb-0ade-4394-bbf6-3f20e17378df",
   "metadata": {},
   "outputs": [],
   "source": [
    "client = CAVEclient()"
   ]
  },
  {
   "cell_type": "code",
   "execution_count": null,
   "id": "d5c2a82d-4bcd-4377-9cfa-3d75bbb2c935",
   "metadata": {},
   "outputs": [],
   "source": [
    "client.auth.save_token(token=\"a80f7690d93ead1b46e980628df5beae\",overwrite = True)"
   ]
  },
  {
   "cell_type": "code",
   "execution_count": null,
   "id": "5eca3301-1694-4714-be0f-5184148929ad",
   "metadata": {},
   "outputs": [],
   "source": [
    "# this is the datastack name of the public release\n",
    "# passing it will auto-configure many of the services\n",
    "client = CAVEclient('minnie65_public_v343')"
   ]
  },
  {
   "cell_type": "code",
   "execution_count": null,
   "id": "f27c8fae-b59b-44ee-b07d-49d39203ef69",
   "metadata": {},
   "outputs": [],
   "source": [
    "client.materialize.get_tables()"
   ]
  },
  {
   "cell_type": "markdown",
   "id": "8cf7f653-6d6b-4297-be2c-0abe00e894b0",
   "metadata": {},
   "source": [
    "## Filter data to obtain depth"
   ]
  },
  {
   "cell_type": "code",
   "execution_count": null,
   "id": "cdd54ade-508a-44c1-97c4-dc9901950bfd",
   "metadata": {},
   "outputs": [],
   "source": [
    "df_fun_coreg=client.materialize.query_table('functional_coreg') #dataframe of the neurons that have functional data available"
   ]
  },
  {
   "cell_type": "code",
   "execution_count": null,
   "id": "716c08e0-86d2-4356-8e1f-ffa7960a4aec",
   "metadata": {},
   "outputs": [],
   "source": [
    "df_fun_coreg.head()"
   ]
  },
  {
   "cell_type": "code",
   "execution_count": null,
   "id": "acb90d5b-c524-4dd6-a0c6-09d67c24579a",
   "metadata": {},
   "outputs": [],
   "source": [
    "seg_id = 864691136136642173 #define a single neuron to look at pre/post synaptic connections\n",
    "#we will iterate over pre-synaptic cells that are present in functionally matched data set, \n",
    "#we identify them based on their unique pt_root_id and for each pre-synaptic cell identified this way,\n",
    "#we consider the synapses (from synapse dataset) to which these cells are pre-synaptic\n",
    "#for each id of neuron, we therefore first consider all synapses to which it is presynaptic and obtaining these\n",
    "#synapses we look at neurons post-synaptic to them\n",
    "#we create a dataframe\n",
    "#we plot using this\n",
    "#input and output depth - stackunit_id of pre-/post-synaptic cell\n",
    "#TO GENERALIZE THIS PROCESS\n",
    "seg_ids = df_fun_coreg.iloc[:, 3] #extract a column\n",
    "seg_ids"
   ]
  },
  {
   "cell_type": "code",
   "execution_count": null,
   "id": "f822df56-1258-4c9d-ae87-c27227d0e78d",
   "metadata": {},
   "outputs": [],
   "source": [
    "# lets get the outputs of this cell\n",
    "#output_df = client.materialize.synapse_query(pre_ids=seg_id)\n",
    "# and the inputs\n",
    "\n",
    "input_df = client.materialize.synapse_query(post_ids=seg_id)\n",
    "seg_ids = df_fun_coreg.iloc[:, 3] #extract a column\n",
    "\n",
    "#seg_ids #extract only ids which are in the functional dataset, we will consider them as postsynaptic id's\n",
    "input_depth=np.array([])\n",
    "output_depth=np.array([])\n",
    "for id in seg_ids: # iterate over postsynaptic id's present in functional data\n",
    "    input_df=client.materialize.synapse_query(post_ids=seg_id) #synapses and their relevant data whose post-synaptic id appears in functional data\n",
    "    input_df.rename(columns = {'pre_pt_root_id':'pt_root_id'}, inplace = True) #rename to be able to match based on primary key of functional dataset in the next step\n",
    "    #it will be used to match with foreign key of input_df - presynaptic id\n",
    "    fun_coreg_matched_df = pd.merge(input_df[['pt_root_id','post_pt_root_id']],df_fun_coreg[['pt_root_id','session', 'scan_idx', 'unit_id']],on='pt_root_id',how='inner')\n",
    "# merging the relevant columns from input_df and df_fun_coreg dataframes based on pt_root_id (only pt_root_id present in fun_coreg dataframe is considered)\n",
    "    #fun_coreg_matched_df contains data on synapses with postsynaptic cell's id equal to seg_id (corresponding to this iteration of the loop) and\n",
    "    #presynaptic id's only of cells present in functional dataset\n",
    "    scan_keys = []\n",
    "    dict1 = {}\n",
    "    for i in range(len(fun_coreg_matched_df)):\n",
    "        dict1 = {'session': fun_coreg_matched_df.loc[i].at['session'], 'scan_idx': fun_coreg_matched_df.loc[i].at['scan_idx'], 'unit_id': fun_coreg_matched_df.loc[i].at['unit_id']}\n",
    "        scan_keys.append(dict1)\n",
    "    filtered_stackunit=nda.StackUnit() & scan_keys\n",
    "    stack_z_values = np.stack((filtered_stackunit).fetch(\"stack_z\"), -1) #extracting relevant information\n",
    "    stack_z_values=np.array(stack_z_values)\n",
    "    n_presynaptic=len(stack_z_values)\n",
    "    wrong_y_coordinates=np.repeat(np.average(stack_z_values), n_presynaptic) #they are arbitrary but we have the same\n",
    "    #postsynaptic cell for a group of presynaptic cells considered in this iteration so we have array of repeated elements\n",
    "    #the same position as we are dealing with the same post-synaptic cell (but idk how to get its coordinate so I will\n",
    "    #take some arbitrary number - it will still be good for visualization as we take arbitrary for all postsynaptic positiosn\n",
    "    #- not fully arbitrary though as we take average of presynaptic positions assuming that postsynaptic cells are relatively close \n",
    "    input_depth=np.concatenate((input_depth, stack_z_values))\n",
    "    output_depth=np.concatenate((output_depth, wrong_y_coordinates))\n",
    "    \n",
    "output_depth\n",
    "input_depth\n",
    "plt.plot(input_depth, output_depth)\n",
    "\n",
    "    "
   ]
  },
  {
   "cell_type": "code",
   "execution_count": null,
   "id": "4fbf9c6b-9a96-4c89-9b94-22c2de263b7d",
   "metadata": {},
   "outputs": [],
   "source": [
    "# here are the number of output synapses and input synapses\n",
    "input_df\n",
    "len(output_df), len(input_df)"
   ]
  },
  {
   "cell_type": "code",
   "execution_count": null,
   "id": "f562e518-3c9f-4f00-8a72-2435a4a2e530",
   "metadata": {},
   "outputs": [],
   "source": [
    "# take peak at the input synapse dataframe\n",
    "input_df.head()"
   ]
  },
  {
   "cell_type": "code",
   "execution_count": null,
   "id": "5e8982e3-1196-4ded-b138-2d2a2feedafa",
   "metadata": {},
   "outputs": [],
   "source": [
    "input_df.rename(columns = {'pre_pt_root_id':'pt_root_id'}, inplace = True) #\n",
    "input_df.head()"
   ]
  },
  {
   "cell_type": "code",
   "execution_count": null,
   "id": "b4c81378-721f-4943-b86b-6319f8f3173c",
   "metadata": {},
   "outputs": [],
   "source": [
    "fun_coreg_matched_df = pd.merge(input_df[['pt_root_id','post_pt_root_id']],df_fun_coreg[['pt_root_id','session', 'scan_idx', 'unit_id']],on='pt_root_id',how='inner')\n",
    "# merging the relevant columns from input_df and df_fun_coreg dataframes based on pt_root_id (only pt_root_id present in fun_coreg dataframe is considered)\n",
    "fun_coreg_matched_df.head()\n",
    "len(fun_coreg_matched_df)"
   ]
  },
  {
   "cell_type": "code",
   "execution_count": null,
   "id": "70e4dfc1-773f-4b63-9b79-166d819ad825",
   "metadata": {},
   "outputs": [],
   "source": [
    "fun_coreg_matched_df.loc[0].at['session']"
   ]
  },
  {
   "cell_type": "code",
   "execution_count": null,
   "id": "25276026-c952-4989-83b4-a5e6325ff50b",
   "metadata": {},
   "outputs": [],
   "source": [
    "print(len(input_df),len(fun_coreg_matched_df)) # input_df contains synapses for which post-synaptic id "
   ]
  },
  {
   "cell_type": "code",
   "execution_count": null,
   "id": "bae3bbfa-2552-483c-bd2a-4653d5694329",
   "metadata": {},
   "outputs": [],
   "source": [
    "scan_keys = []\n",
    "dict1 = {}\n",
    "for i in range(len(fun_coreg_matched_df)):\n",
    "    dict1 = {'session': fun_coreg_matched_df.loc[i].at['session'], 'scan_idx': fun_coreg_matched_df.loc[i].at['scan_idx'], 'unit_id': fun_coreg_matched_df.loc[i].at['unit_id']}\n",
    "    scan_keys.append(dict1)\n",
    "    \n",
    "print(scan_keys)\n",
    "    "
   ]
  },
  {
   "cell_type": "code",
   "execution_count": null,
   "id": "868a1715-3d8e-4156-832f-22c208eab2ad",
   "metadata": {},
   "outputs": [],
   "source": [
    "filtered_stackunit=nda.StackUnit() & scan_keys"
   ]
  },
  {
   "cell_type": "code",
   "execution_count": null,
   "id": "5edc81c5-7fa8-47b6-91b5-d1e6339a95e8",
   "metadata": {},
   "outputs": [],
   "source": [
    "filtered_stackunit "
   ]
  },
  {
   "cell_type": "code",
   "execution_count": null,
   "id": "69a06d42-1461-4a65-8675-856ebd81d493",
   "metadata": {},
   "outputs": [],
   "source": [
    "stack_z_values = np.stack((filtered_stackunit).fetch(\"stack_z\"), -1)"
   ]
  },
  {
   "cell_type": "code",
   "execution_count": null,
   "id": "978af9a6-ba42-42dd-af43-e9a236a9d08e",
   "metadata": {},
   "outputs": [],
   "source": [
    "stack_z_values"
   ]
  },
  {
   "cell_type": "code",
   "execution_count": null,
   "id": "634bd216-d57c-468a-b1fd-d0e3c59d0b1a",
   "metadata": {},
   "outputs": [],
   "source": [
    "nda.StackUnit()"
   ]
  },
  {
   "cell_type": "code",
   "execution_count": null,
   "id": "550ccd9e-2f77-4bc4-a131-74bfe228185a",
   "metadata": {},
   "outputs": [],
   "source": []
  }
 ],
 "metadata": {
  "kernelspec": {
   "display_name": "Python 3 (ipykernel)",
   "language": "python",
   "name": "python3"
  },
  "language_info": {
   "codemirror_mode": {
    "name": "ipython",
    "version": 3
   },
   "file_extension": ".py",
   "mimetype": "text/x-python",
   "name": "python",
   "nbconvert_exporter": "python",
   "pygments_lexer": "ipython3",
   "version": "3.8.10"
  }
 },
 "nbformat": 4,
 "nbformat_minor": 5
}
