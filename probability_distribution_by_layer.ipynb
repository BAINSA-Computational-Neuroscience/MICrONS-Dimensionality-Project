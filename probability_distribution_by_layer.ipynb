{
 "cells": [
  {
   "cell_type": "markdown",
   "id": "f411b653-846c-43e1-b883-5f5b313aafe3",
   "metadata": {},
   "source": [
    "# Probability Distribution by Layer"
   ]
  },
  {
   "cell_type": "code",
   "execution_count": null,
   "id": "85c0524a-2409-4ff1-bbdd-e6469b4eb95d",
   "metadata": {},
   "outputs": [],
   "source": [
    "import pandas as pd \n",
    "    \n",
    "df = pd.read_csv(\"all_functional_neuron_synapses.csv\")\n",
    "df.head()"
   ]
  },
  {
   "cell_type": "code",
   "execution_count": null,
   "id": "d435b697-84f3-4070-827b-6199f759abb8",
   "metadata": {},
   "outputs": [],
   "source": [
    "#We will be doing this analysis for layers 2/3, 4, and 5 since those are the layers in which there are enough synapses to draw conclusions.\n",
    "#Layers 1 and 6 are not present enough to conduct this analysis"
   ]
  },
  {
   "cell_type": "markdown",
   "id": "2cd489dd-a183-44af-a878-6f9c669e7f90",
   "metadata": {},
   "source": [
    "## Layer 2/3"
   ]
  },
  {
   "cell_type": "markdown",
   "id": "f0e5e5d2-b5e0-4d22-a239-a13b87dc821e",
   "metadata": {},
   "source": [
    "### Post Synaptic Connections (From L2/3 to other layers)"
   ]
  },
  {
   "cell_type": "code",
   "execution_count": null,
   "id": "66c49b87-1931-4441-be9c-3ed5b95a1b5e",
   "metadata": {},
   "outputs": [],
   "source": [
    "#filter only rows with input depth in the range of layer 2/3 as defined by MICrONS\n",
    "df_l23_pre = df.loc[(df['Input Depth'] >= 98) & (df['Input Depth'] <= 283)]\n",
    "df_l23_pre"
   ]
  },
  {
   "cell_type": "code",
   "execution_count": null,
   "id": "3e1914cf-1ce8-4c8e-ba22-6cef5d65a40c",
   "metadata": {},
   "outputs": [],
   "source": [
    "#Find number of outputs to each layer\n",
    "l23_to_l4 = len(df_l23_pre.loc[(df_l23_pre['Output Depth'] >= 283) & (df_l23_pre['Output Depth'] <= 371)])/len(df_l23_pre)\n",
    "l23_to_l5 = len(df_l23_pre.loc[(df_l23_pre['Output Depth'] >= 371) & (df_l23_pre['Output Depth'] <= 574)])/len(df_l23_pre)"
   ]
  },
  {
   "cell_type": "code",
   "execution_count": null,
   "id": "f362fe2e-ffbc-4e03-bf08-51082d625322",
   "metadata": {},
   "outputs": [],
   "source": [
    "#Define plot dataframe\n",
    "l23_pre_plot_data = [['Layer 4',l23_to_l4], ['Layer 5', l23_to_l5]]\n",
    "\n",
    "l23_pre_plot_df = pd.DataFrame(l23_pre_plot_data, columns=['Layer', 'Proportion'])\n",
    "\n",
    "l23_pre_plot_df"
   ]
  },
  {
   "cell_type": "code",
   "execution_count": null,
   "id": "3c76f48d-99a1-477d-8a8d-6a4d50cf1cb6",
   "metadata": {},
   "outputs": [],
   "source": [
    "import seaborn as sns\n",
    "sns.set_style('darkgrid')\n",
    "\n",
    "sns.barplot(x ='Layer', y ='Proportion', data = l23_pre_plot_df, palette ='plasma').set(title='Layer 2/3 Post-Synaptic Connections')"
   ]
  },
  {
   "cell_type": "markdown",
   "id": "fba36799-51aa-432a-8f49-64aad82d6227",
   "metadata": {},
   "source": [
    "### Pre-Synaptic Connections (from other layers to L/23)"
   ]
  },
  {
   "cell_type": "code",
   "execution_count": null,
   "id": "e6968872-b5fa-487d-9b60-fa331b125c21",
   "metadata": {},
   "outputs": [],
   "source": [
    "#filter only rows with output depth in the range of layer 2/3 as defined by MICrONS\n",
    "df_l23_post = df.loc[(df['Output Depth'] >= 98) & (df['Output Depth'] <= 283)]\n",
    "df_l23_post"
   ]
  },
  {
   "cell_type": "code",
   "execution_count": null,
   "id": "77c12ca9-bfb6-4cf8-80c7-4ec1e255c536",
   "metadata": {},
   "outputs": [],
   "source": [
    "#Find number of inputs to each layer\n",
    "l4_to_l23 = len(df_l23_post.loc[(df_l23_post['Input Depth'] >= 283) & (df_l23_post['Input Depth'] <= 371)])/len(df_l23_post)\n",
    "l5_to_l23 = len(df_l23_post.loc[(df_l23_post['Input Depth'] >= 371) & (df_l23_post['Input Depth'] <= 574)])/len(df_l23_post)\n"
   ]
  },
  {
   "cell_type": "code",
   "execution_count": null,
   "id": "efe0cca4-fc31-4225-94d9-01510555397e",
   "metadata": {},
   "outputs": [],
   "source": [
    "#Define plot dataframe\n",
    "l23_post_plot_data = [['Layer 4',l4_to_l23], ['Layer 5', l5_to_l23]]\n",
    "\n",
    "l23_post_plot_df = pd.DataFrame(l23_post_plot_data, columns=['Layer', 'Proportion'])\n",
    "\n",
    "l23_post_plot_df"
   ]
  },
  {
   "cell_type": "code",
   "execution_count": null,
   "id": "aa0ad105-80d0-46ac-9dd5-87a250fb07f8",
   "metadata": {},
   "outputs": [],
   "source": [
    "sns.set_style('darkgrid')\n",
    "\n",
    "sns.barplot(x ='Layer', y ='Proportion', data = l23_post_plot_df, palette ='plasma').set(title='Layer 2/3 Pre-Synaptic Connections')"
   ]
  },
  {
   "cell_type": "markdown",
   "id": "76240f73-5003-4ca1-a2a0-a3e9dc990ebc",
   "metadata": {},
   "source": [
    "## Layer 4"
   ]
  },
  {
   "cell_type": "markdown",
   "id": "4fcf57f8-d042-4149-bfb7-ffbd3f8e8c7f",
   "metadata": {},
   "source": [
    "### Post-Synaptic Connections (from L4 to other layers)"
   ]
  },
  {
   "cell_type": "code",
   "execution_count": null,
   "id": "de7a4864-d0d7-4ebd-ad2c-fe4f683548e8",
   "metadata": {},
   "outputs": [],
   "source": [
    "#filter only rows with input depth in the range of layer 4 as defined by MICrONS\n",
    "df_l4_pre = df.loc[(df['Input Depth'] >= 283) & (df['Input Depth'] <= 371)]\n",
    "df_l4_pre"
   ]
  },
  {
   "cell_type": "code",
   "execution_count": null,
   "id": "7cd93e14-9900-4d1e-898f-09a94a3ca874",
   "metadata": {},
   "outputs": [],
   "source": [
    "#Find number of outputs to each layer\n",
    "l4_to_l23 = len(df_l4_pre.loc[(df_l4_pre['Output Depth'] >= 98) & (df_l4_pre['Output Depth'] <= 283)])/len(df_l4_pre)\n",
    "l4_to_l5 = len(df_l4_pre.loc[(df_l4_pre['Output Depth'] >= 371) & (df_l4_pre['Output Depth'] <= 574)])/len(df_l4_pre)"
   ]
  },
  {
   "cell_type": "code",
   "execution_count": null,
   "id": "6ed3f99f-8154-4d95-8123-15bf28ad1caa",
   "metadata": {},
   "outputs": [],
   "source": [
    "#Define plot dataframe\n",
    "l4_pre_plot_data = [['Layer 2/3',l4_to_l23], ['Layer 5', l4_to_l5]]\n",
    "\n",
    "l4_pre_plot_df = pd.DataFrame(l4_pre_plot_data, columns=['Layer', 'Proportion'])\n",
    "\n",
    "l4_pre_plot_df"
   ]
  },
  {
   "cell_type": "code",
   "execution_count": null,
   "id": "79e07131-5df4-41da-9964-1c73d6d91f60",
   "metadata": {},
   "outputs": [],
   "source": [
    "sns.set_style('darkgrid')\n",
    "\n",
    "sns.barplot(x ='Layer', y ='Proportion', data = l4_pre_plot_df, palette ='plasma').set(title='Layer 4 Post Synaptic Connections')"
   ]
  },
  {
   "cell_type": "markdown",
   "id": "281d0704-9899-4ec5-a3f8-c260838ad04b",
   "metadata": {},
   "source": [
    "### Pre-Synaptic Connections (from other layers to L4)"
   ]
  },
  {
   "cell_type": "code",
   "execution_count": null,
   "id": "772958f0-72a4-422b-a5e0-7f52d39e41c7",
   "metadata": {},
   "outputs": [],
   "source": [
    "#filter only rows with output depth in the range of layer 4 as defined by MICrONS\n",
    "df_l4_post = df.loc[(df['Output Depth'] >= 283) & (df['Output Depth'] <= 371)]\n",
    "df_l4_post"
   ]
  },
  {
   "cell_type": "code",
   "execution_count": null,
   "id": "1aa3269c-0ffc-4a57-ba7d-29971faffd01",
   "metadata": {},
   "outputs": [],
   "source": [
    "#find number of inputs from each layer\n",
    "l23_to_l4 = len(df_l4_post.loc[(df_l4_post['Input Depth'] >= 98) & (df_l4_post['Input Depth'] <= 283)])/len(df_l4_post)\n",
    "l5_to_l4 = len(df_l4_post.loc[(df_l4_post['Input Depth'] >= 371) & (df_l4_post['Input Depth'] <= 574)])/len(df_l4_post)\n"
   ]
  },
  {
   "cell_type": "code",
   "execution_count": null,
   "id": "b2677f60-f48b-4db4-af44-d03a2edb4f9c",
   "metadata": {},
   "outputs": [],
   "source": [
    "#define plot dataframe\n",
    "l4_post_plot_data = [['Layer 2/3',l23_to_l4], ['Layer 5', l5_to_l4]]\n",
    "\n",
    "l4_post_plot_df = pd.DataFrame(l4_post_plot_data, columns=['Layer', 'Proportion'])\n",
    "\n",
    "l4_post_plot_df"
   ]
  },
  {
   "cell_type": "code",
   "execution_count": null,
   "id": "1e8f0262-5e20-4fbf-bc76-5ab0a31371b5",
   "metadata": {},
   "outputs": [],
   "source": [
    "sns.set_style('darkgrid')\n",
    "\n",
    "sns.barplot(x ='Layer', y ='Proportion', data = l4_post_plot_df, palette ='plasma').set(title='Layer 4 Pre-Synaptic Connections')"
   ]
  },
  {
   "cell_type": "markdown",
   "id": "95347f57-99c1-4b66-931f-e33f1c62ced3",
   "metadata": {},
   "source": [
    "## Layer 5"
   ]
  },
  {
   "cell_type": "markdown",
   "id": "6fee2b3c-2def-45d3-9d73-b0bb611352a2",
   "metadata": {},
   "source": [
    "### Post-Synaptic Connections (from L5 to other layers)"
   ]
  },
  {
   "cell_type": "code",
   "execution_count": null,
   "id": "d9f005b9-5316-4f52-8507-5a558f03aef7",
   "metadata": {},
   "outputs": [],
   "source": [
    "#filter only rows with input depth in the range of layer 5 as defined by MICrONS\n",
    "df_l5_pre = df.loc[(df['Input Depth'] >= 371) & (df['Input Depth'] <= 574)]\n",
    "df_l5_pre"
   ]
  },
  {
   "cell_type": "code",
   "execution_count": null,
   "id": "6bf0af52-e1a1-4f39-9cc6-4729299fd34c",
   "metadata": {},
   "outputs": [],
   "source": [
    "#Find number of outputs to each layer\n",
    "l5_to_l23 = len(df_l5_pre.loc[(df_l5_pre['Output Depth'] >= 98) & (df_l5_pre['Output Depth'] <= 283)])/len(df_l5_pre)\n",
    "l5_to_l4 = len(df_l5_pre.loc[(df_l5_pre['Output Depth'] >= 283) & (df_l5_pre['Output Depth'] <= 371)])/len(df_l5_pre)"
   ]
  },
  {
   "cell_type": "code",
   "execution_count": null,
   "id": "7a631602-58c8-45eb-aac5-789817131eaf",
   "metadata": {},
   "outputs": [],
   "source": [
    "#Define plot dataframe\n",
    "l5_pre_plot_data = [['Layer 2/3',l5_to_l23], ['Layer 4', l5_to_l4]]\n",
    "\n",
    "l5_pre_plot_df = pd.DataFrame(l5_pre_plot_data, columns=['Layer', 'Proportion'])\n",
    "\n",
    "l5_pre_plot_df"
   ]
  },
  {
   "cell_type": "code",
   "execution_count": null,
   "id": "d3728ede-1eeb-429b-8a9f-5e35bcf12b4d",
   "metadata": {},
   "outputs": [],
   "source": [
    "sns.set_style('darkgrid')\n",
    "\n",
    "sns.barplot(x ='Layer', y ='Proportion', data = l5_pre_plot_df, palette ='plasma').set(title='Layer 5 Post Synaptic Connections')"
   ]
  },
  {
   "cell_type": "markdown",
   "id": "5549e15a-3037-44a8-adbc-89bc5c71e9e9",
   "metadata": {},
   "source": [
    "### Pre-Synaptic Connections (from other layers to L5)"
   ]
  },
  {
   "cell_type": "code",
   "execution_count": null,
   "id": "0bb707e1-f0c8-45c5-891b-504d9c33aa38",
   "metadata": {},
   "outputs": [],
   "source": [
    "#filter only rows with input depth in the range of layer 2/3 as defined by MICrONS\n",
    "df_l5_post = df.loc[(df['Output Depth'] >= 371) & (df['Output Depth'] <= 574)]\n",
    "df_l5_post"
   ]
  },
  {
   "cell_type": "code",
   "execution_count": null,
   "id": "2ade9429-b5ea-4632-8092-4e6c7cb8ed08",
   "metadata": {},
   "outputs": [],
   "source": [
    "#Find number of inputs from each layer\n",
    "l23_to_l5 = len(df_l5_post.loc[(df_l5_post['Input Depth'] >= 98) & (df_l5_post['Input Depth'] <= 283)])/len(df_l5_post)\n",
    "l4_to_l5 = len(df_l5_post.loc[(df_l5_post['Input Depth'] >= 283) & (df_l5_post['Input Depth'] <= 371)])/len(df_l5_post)"
   ]
  },
  {
   "cell_type": "code",
   "execution_count": null,
   "id": "6b2e4b11-5dc6-4fbc-a5d4-418dcee1f9aa",
   "metadata": {},
   "outputs": [],
   "source": [
    "#Define plot dataframe\n",
    "l5_post_plot_data = [['Layer 2/3',l23_to_l5], ['Layer 4', l4_to_l5]]\n",
    "\n",
    "l5_post_plot_df = pd.DataFrame(l5_post_plot_data, columns=['Layer', 'Proportion'])\n",
    "\n",
    "l5_post_plot_df"
   ]
  },
  {
   "cell_type": "code",
   "execution_count": null,
   "id": "6e01e0f8-8bfc-431c-948c-6492a14a9055",
   "metadata": {},
   "outputs": [],
   "source": [
    "sns.set_style('darkgrid')\n",
    "\n",
    "sns.barplot(x ='Layer', y ='Proportion', data = l5_post_plot_df, palette ='plasma').set(title='Layer 5 Pre-Synaptic Connections')"
   ]
  }
 ],
 "metadata": {
  "kernelspec": {
   "display_name": "Python 3 (ipykernel)",
   "language": "python",
   "name": "python3"
  },
  "language_info": {
   "codemirror_mode": {
    "name": "ipython",
    "version": 3
   },
   "file_extension": ".py",
   "mimetype": "text/x-python",
   "name": "python",
   "nbconvert_exporter": "python",
   "pygments_lexer": "ipython3",
   "version": "3.8.10"
  }
 },
 "nbformat": 4,
 "nbformat_minor": 5
}
